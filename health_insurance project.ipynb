{
 "cells": [
  {
   "cell_type": "markdown",
   "id": "4f6adc29",
   "metadata": {},
   "source": [
    "# Introduction"
   ]
  },
  {
   "cell_type": "markdown",
   "id": "9411cfe1",
   "metadata": {},
   "source": [
    "It is a USA Health Insurance Project, By this dataset we can know health insurance price in USA based on some parameter like\n",
    "age,bmi,gender,smoking status etc.A Insurance Company using this data to perform EDA and get valuable insights and also applying\n",
    "some mechine learning algorithms for predicting the health insurance price and create a model. If any new customer is coming \n",
    "company predict insurance price bassed on this model.\n"
   ]
  },
  {
   "cell_type": "raw",
   "id": "eb14f5c4",
   "metadata": {},
   "source": [
    "age: age of the beneficiary\n",
    "gender:customers gender male/female\n",
    "BMI: Body mass index,weights that are relatively high or low relative to\n",
    "children:Number of children covered by health insurance \n",
    "smoking_status: customer are smoker or non-smoker\n",
    "location: customers area in US northeast, southeast, southwest, northwest.\n",
    "health_insurance_price: customers health insurance price"
   ]
  },
  {
   "cell_type": "raw",
   "id": "267e86f5",
   "metadata": {},
   "source": [
    "Aim:\n",
    "Performing necessary feature engineering step to clean clean and modify the data.\n",
    "Predicitng health insurance price using a machine learning model"
   ]
  },
  {
   "cell_type": "code",
   "execution_count": 1,
   "id": "a6aa6dba",
   "metadata": {},
   "outputs": [],
   "source": [
    "# Importing required libraries \n",
    "import numpy as np\n",
    "import pandas as pd\n",
    "import matplotlib.pyplot as plt\n",
    "import seaborn as sns\n",
    "import plotly.express as px"
   ]
  },
  {
   "cell_type": "code",
   "execution_count": 2,
   "id": "5bda7bc6",
   "metadata": {},
   "outputs": [],
   "source": [
    "# read the dataset\n",
    "health_raw=pd.read_excel('Health_insurance_cost.xlsx')\n",
    "# creating a new copy\n",
    "health= health_raw.copy()    "
   ]
  },
  {
   "cell_type": "code",
   "execution_count": 3,
   "id": "065079ad",
   "metadata": {},
   "outputs": [
    {
     "data": {
      "text/html": [
       "<div>\n",
       "<style scoped>\n",
       "    .dataframe tbody tr th:only-of-type {\n",
       "        vertical-align: middle;\n",
       "    }\n",
       "\n",
       "    .dataframe tbody tr th {\n",
       "        vertical-align: top;\n",
       "    }\n",
       "\n",
       "    .dataframe thead th {\n",
       "        text-align: right;\n",
       "    }\n",
       "</style>\n",
       "<table border=\"1\" class=\"dataframe\">\n",
       "  <thead>\n",
       "    <tr style=\"text-align: right;\">\n",
       "      <th></th>\n",
       "      <th>age</th>\n",
       "      <th>gender</th>\n",
       "      <th>BMI</th>\n",
       "      <th>Children</th>\n",
       "      <th>smoking_status</th>\n",
       "      <th>location</th>\n",
       "      <th>health_insurance_price</th>\n",
       "    </tr>\n",
       "  </thead>\n",
       "  <tbody>\n",
       "    <tr>\n",
       "      <th>0</th>\n",
       "      <td>19.0</td>\n",
       "      <td>female</td>\n",
       "      <td>NaN</td>\n",
       "      <td>0</td>\n",
       "      <td>yes</td>\n",
       "      <td>southwest</td>\n",
       "      <td>16884.92400</td>\n",
       "    </tr>\n",
       "    <tr>\n",
       "      <th>1</th>\n",
       "      <td>18.0</td>\n",
       "      <td>male</td>\n",
       "      <td>33.770</td>\n",
       "      <td>1</td>\n",
       "      <td>no</td>\n",
       "      <td>southeast</td>\n",
       "      <td>1725.55230</td>\n",
       "    </tr>\n",
       "    <tr>\n",
       "      <th>2</th>\n",
       "      <td>28.0</td>\n",
       "      <td>male</td>\n",
       "      <td>33.000</td>\n",
       "      <td>3</td>\n",
       "      <td>no</td>\n",
       "      <td>southeast</td>\n",
       "      <td>4449.46200</td>\n",
       "    </tr>\n",
       "    <tr>\n",
       "      <th>3</th>\n",
       "      <td>33.0</td>\n",
       "      <td>male</td>\n",
       "      <td>22.705</td>\n",
       "      <td>0</td>\n",
       "      <td>no</td>\n",
       "      <td>northwest</td>\n",
       "      <td>21984.47061</td>\n",
       "    </tr>\n",
       "    <tr>\n",
       "      <th>4</th>\n",
       "      <td>32.0</td>\n",
       "      <td>male</td>\n",
       "      <td>28.880</td>\n",
       "      <td>0</td>\n",
       "      <td>no</td>\n",
       "      <td>northwest</td>\n",
       "      <td>3866.85520</td>\n",
       "    </tr>\n",
       "  </tbody>\n",
       "</table>\n",
       "</div>"
      ],
      "text/plain": [
       "    age  gender     BMI  Children smoking_status   location  \\\n",
       "0  19.0  female     NaN         0            yes  southwest   \n",
       "1  18.0    male  33.770         1             no  southeast   \n",
       "2  28.0    male  33.000         3             no  southeast   \n",
       "3  33.0    male  22.705         0             no  northwest   \n",
       "4  32.0    male  28.880         0             no  northwest   \n",
       "\n",
       "   health_insurance_price  \n",
       "0             16884.92400  \n",
       "1              1725.55230  \n",
       "2              4449.46200  \n",
       "3             21984.47061  \n",
       "4              3866.85520  "
      ]
     },
     "execution_count": 3,
     "metadata": {},
     "output_type": "execute_result"
    }
   ],
   "source": [
    "# see first 5 rows in the dataset\n",
    "health.head()"
   ]
  },
  {
   "cell_type": "code",
   "execution_count": 4,
   "id": "f27a7cdb",
   "metadata": {},
   "outputs": [
    {
     "data": {
      "text/html": [
       "<div>\n",
       "<style scoped>\n",
       "    .dataframe tbody tr th:only-of-type {\n",
       "        vertical-align: middle;\n",
       "    }\n",
       "\n",
       "    .dataframe tbody tr th {\n",
       "        vertical-align: top;\n",
       "    }\n",
       "\n",
       "    .dataframe thead th {\n",
       "        text-align: right;\n",
       "    }\n",
       "</style>\n",
       "<table border=\"1\" class=\"dataframe\">\n",
       "  <thead>\n",
       "    <tr style=\"text-align: right;\">\n",
       "      <th></th>\n",
       "      <th>age</th>\n",
       "      <th>gender</th>\n",
       "      <th>BMI</th>\n",
       "      <th>Children</th>\n",
       "      <th>smoking_status</th>\n",
       "      <th>location</th>\n",
       "      <th>health_insurance_price</th>\n",
       "    </tr>\n",
       "  </thead>\n",
       "  <tbody>\n",
       "    <tr>\n",
       "      <th>1333</th>\n",
       "      <td>50.0</td>\n",
       "      <td>male</td>\n",
       "      <td>30.97</td>\n",
       "      <td>3</td>\n",
       "      <td>no</td>\n",
       "      <td>northwest</td>\n",
       "      <td>10600.5483</td>\n",
       "    </tr>\n",
       "    <tr>\n",
       "      <th>1334</th>\n",
       "      <td>18.0</td>\n",
       "      <td>female</td>\n",
       "      <td>31.92</td>\n",
       "      <td>0</td>\n",
       "      <td>no</td>\n",
       "      <td>northeast</td>\n",
       "      <td>2205.9808</td>\n",
       "    </tr>\n",
       "    <tr>\n",
       "      <th>1335</th>\n",
       "      <td>18.0</td>\n",
       "      <td>female</td>\n",
       "      <td>36.85</td>\n",
       "      <td>0</td>\n",
       "      <td>no</td>\n",
       "      <td>southeast</td>\n",
       "      <td>1629.8335</td>\n",
       "    </tr>\n",
       "    <tr>\n",
       "      <th>1336</th>\n",
       "      <td>21.0</td>\n",
       "      <td>female</td>\n",
       "      <td>25.80</td>\n",
       "      <td>0</td>\n",
       "      <td>no</td>\n",
       "      <td>southwest</td>\n",
       "      <td>2007.9450</td>\n",
       "    </tr>\n",
       "    <tr>\n",
       "      <th>1337</th>\n",
       "      <td>61.0</td>\n",
       "      <td>female</td>\n",
       "      <td>29.07</td>\n",
       "      <td>0</td>\n",
       "      <td>yes</td>\n",
       "      <td>northwest</td>\n",
       "      <td>29141.3603</td>\n",
       "    </tr>\n",
       "  </tbody>\n",
       "</table>\n",
       "</div>"
      ],
      "text/plain": [
       "       age  gender    BMI  Children smoking_status   location  \\\n",
       "1333  50.0    male  30.97         3             no  northwest   \n",
       "1334  18.0  female  31.92         0             no  northeast   \n",
       "1335  18.0  female  36.85         0             no  southeast   \n",
       "1336  21.0  female  25.80         0             no  southwest   \n",
       "1337  61.0  female  29.07         0            yes  northwest   \n",
       "\n",
       "      health_insurance_price  \n",
       "1333              10600.5483  \n",
       "1334               2205.9808  \n",
       "1335               1629.8335  \n",
       "1336               2007.9450  \n",
       "1337              29141.3603  "
      ]
     },
     "execution_count": 4,
     "metadata": {},
     "output_type": "execute_result"
    }
   ],
   "source": [
    "# see last 5 rows in the dataset\n",
    "health.tail()"
   ]
  },
  {
   "cell_type": "code",
   "execution_count": 5,
   "id": "831ca32a",
   "metadata": {},
   "outputs": [
    {
     "data": {
      "text/plain": [
       "(1338, 7)"
      ]
     },
     "execution_count": 5,
     "metadata": {},
     "output_type": "execute_result"
    }
   ],
   "source": [
    "health.shape"
   ]
  },
  {
   "cell_type": "markdown",
   "id": "9076fdcc",
   "metadata": {},
   "source": [
    "In this datset 1338 observations and 7 variables"
   ]
  },
  {
   "cell_type": "code",
   "execution_count": 6,
   "id": "60bc1b42",
   "metadata": {},
   "outputs": [
    {
     "name": "stdout",
     "output_type": "stream",
     "text": [
      "<class 'pandas.core.frame.DataFrame'>\n",
      "RangeIndex: 1338 entries, 0 to 1337\n",
      "Data columns (total 7 columns):\n",
      " #   Column                  Non-Null Count  Dtype  \n",
      "---  ------                  --------------  -----  \n",
      " 0   age                     1310 non-null   float64\n",
      " 1   gender                  1338 non-null   object \n",
      " 2   BMI                     1315 non-null   float64\n",
      " 3   Children                1338 non-null   int64  \n",
      " 4   smoking_status          1338 non-null   object \n",
      " 5   location                1338 non-null   object \n",
      " 6   health_insurance_price  1336 non-null   float64\n",
      "dtypes: float64(3), int64(1), object(3)\n",
      "memory usage: 73.3+ KB\n"
     ]
    }
   ],
   "source": [
    "health.info()"
   ]
  },
  {
   "cell_type": "code",
   "execution_count": 7,
   "id": "ea0e08e6",
   "metadata": {
    "scrolled": true
   },
   "outputs": [
    {
     "data": {
      "text/html": [
       "<div>\n",
       "<style scoped>\n",
       "    .dataframe tbody tr th:only-of-type {\n",
       "        vertical-align: middle;\n",
       "    }\n",
       "\n",
       "    .dataframe tbody tr th {\n",
       "        vertical-align: top;\n",
       "    }\n",
       "\n",
       "    .dataframe thead th {\n",
       "        text-align: right;\n",
       "    }\n",
       "</style>\n",
       "<table border=\"1\" class=\"dataframe\">\n",
       "  <thead>\n",
       "    <tr style=\"text-align: right;\">\n",
       "      <th></th>\n",
       "      <th>age</th>\n",
       "      <th>BMI</th>\n",
       "      <th>Children</th>\n",
       "      <th>health_insurance_price</th>\n",
       "    </tr>\n",
       "  </thead>\n",
       "  <tbody>\n",
       "    <tr>\n",
       "      <th>count</th>\n",
       "      <td>1310.000000</td>\n",
       "      <td>1315.000000</td>\n",
       "      <td>1338.000000</td>\n",
       "      <td>1336.000000</td>\n",
       "    </tr>\n",
       "    <tr>\n",
       "      <th>mean</th>\n",
       "      <td>39.166412</td>\n",
       "      <td>30.638217</td>\n",
       "      <td>1.094918</td>\n",
       "      <td>13268.527719</td>\n",
       "    </tr>\n",
       "    <tr>\n",
       "      <th>std</th>\n",
       "      <td>14.055378</td>\n",
       "      <td>6.110302</td>\n",
       "      <td>1.205493</td>\n",
       "      <td>12112.797724</td>\n",
       "    </tr>\n",
       "    <tr>\n",
       "      <th>min</th>\n",
       "      <td>18.000000</td>\n",
       "      <td>15.960000</td>\n",
       "      <td>0.000000</td>\n",
       "      <td>1121.873900</td>\n",
       "    </tr>\n",
       "    <tr>\n",
       "      <th>25%</th>\n",
       "      <td>26.000000</td>\n",
       "      <td>26.210000</td>\n",
       "      <td>0.000000</td>\n",
       "      <td>4744.325050</td>\n",
       "    </tr>\n",
       "    <tr>\n",
       "      <th>50%</th>\n",
       "      <td>39.000000</td>\n",
       "      <td>30.305000</td>\n",
       "      <td>1.000000</td>\n",
       "      <td>9382.033000</td>\n",
       "    </tr>\n",
       "    <tr>\n",
       "      <th>75%</th>\n",
       "      <td>51.000000</td>\n",
       "      <td>34.580000</td>\n",
       "      <td>2.000000</td>\n",
       "      <td>16604.302645</td>\n",
       "    </tr>\n",
       "    <tr>\n",
       "      <th>max</th>\n",
       "      <td>64.000000</td>\n",
       "      <td>53.130000</td>\n",
       "      <td>5.000000</td>\n",
       "      <td>63770.428010</td>\n",
       "    </tr>\n",
       "  </tbody>\n",
       "</table>\n",
       "</div>"
      ],
      "text/plain": [
       "               age          BMI     Children  health_insurance_price\n",
       "count  1310.000000  1315.000000  1338.000000             1336.000000\n",
       "mean     39.166412    30.638217     1.094918            13268.527719\n",
       "std      14.055378     6.110302     1.205493            12112.797724\n",
       "min      18.000000    15.960000     0.000000             1121.873900\n",
       "25%      26.000000    26.210000     0.000000             4744.325050\n",
       "50%      39.000000    30.305000     1.000000             9382.033000\n",
       "75%      51.000000    34.580000     2.000000            16604.302645\n",
       "max      64.000000    53.130000     5.000000            63770.428010"
      ]
     },
     "execution_count": 7,
     "metadata": {},
     "output_type": "execute_result"
    }
   ],
   "source": [
    "# see all the statistical values\n",
    "health.describe()"
   ]
  },
  {
   "cell_type": "code",
   "execution_count": 8,
   "id": "9d513e64",
   "metadata": {},
   "outputs": [
    {
     "data": {
      "text/plain": [
       "Index(['age', 'gender', 'BMI', 'Children', 'smoking_status', 'location',\n",
       "       'health_insurance_price'],\n",
       "      dtype='object')"
      ]
     },
     "execution_count": 8,
     "metadata": {},
     "output_type": "execute_result"
    }
   ],
   "source": [
    "# see all the columns\n",
    "health.columns"
   ]
  },
  {
   "cell_type": "code",
   "execution_count": 9,
   "id": "29c91c42",
   "metadata": {},
   "outputs": [],
   "source": [
    "# drop if any duplicates value have this dataset\n",
    "health.drop_duplicates(inplace=True)"
   ]
  },
  {
   "cell_type": "code",
   "execution_count": 10,
   "id": "60e6d0b8",
   "metadata": {},
   "outputs": [
    {
     "data": {
      "text/plain": [
       "(1337, 7)"
      ]
     },
     "execution_count": 10,
     "metadata": {},
     "output_type": "execute_result"
    }
   ],
   "source": [
    "health.shape"
   ]
  },
  {
   "cell_type": "code",
   "execution_count": 66,
   "id": "183add0f",
   "metadata": {},
   "outputs": [
    {
     "data": {
      "text/plain": [
       "age                       28\n",
       "gender                     0\n",
       "BMI                       23\n",
       "Children                   0\n",
       "smoking_status             0\n",
       "location                   0\n",
       "health_insurance_price     2\n",
       "dtype: int64"
      ]
     },
     "execution_count": 66,
     "metadata": {},
     "output_type": "execute_result"
    }
   ],
   "source": [
    "# checking null values\n",
    "health.isnull().sum()"
   ]
  },
  {
   "cell_type": "markdown",
   "id": "a9f38590",
   "metadata": {},
   "source": [
    "see here 2 columns have null values and also 1 target variable have null values"
   ]
  },
  {
   "cell_type": "code",
   "execution_count": 67,
   "id": "f7ac4f2b",
   "metadata": {},
   "outputs": [
    {
     "data": {
      "text/plain": [
       "age                       2.094241\n",
       "gender                    0.000000\n",
       "BMI                       1.720269\n",
       "Children                  0.000000\n",
       "smoking_status            0.000000\n",
       "location                  0.000000\n",
       "health_insurance_price    0.149589\n",
       "dtype: float64"
      ]
     },
     "execution_count": 67,
     "metadata": {},
     "output_type": "execute_result"
    }
   ],
   "source": [
    "# checking null values in percentage wise\n",
    "health.isnull().mean()*100"
   ]
  },
  {
   "cell_type": "markdown",
   "id": "6a77cff9",
   "metadata": {},
   "source": [
    "here 2% in age column and 1.7% in BMI column have null values and in health_insurance_price has only 0.14% null value and\n",
    "it is also target variable so we can drop the rows from this column"
   ]
  },
  {
   "cell_type": "code",
   "execution_count": 68,
   "id": "2a1635ee",
   "metadata": {},
   "outputs": [],
   "source": [
    "import missingno as msno"
   ]
  },
  {
   "cell_type": "code",
   "execution_count": 69,
   "id": "257532f4",
   "metadata": {},
   "outputs": [
    {
     "data": {
      "text/plain": [
       "<Axes: >"
      ]
     },
     "execution_count": 69,
     "metadata": {},
     "output_type": "execute_result"
    },
    {
     "data": {
      "image/png": "[encoded data removed]",
      "text/plain": [
       "<Figure size 2500x1000 with 3 Axes>"
      ]
     },
     "metadata": {},
     "output_type": "display_data"
    }
   ],
   "source": [
    "msno.bar(health)"
   ]
  },
  {
   "cell_type": "code",
   "execution_count": 70,
   "id": "19cd558f",
   "metadata": {},
   "outputs": [
    {
     "data": {
      "text/plain": [
       "<Axes: >"
      ]
     },
     "execution_count": 70,
     "metadata": {},
     "output_type": "execute_result"
    },
    {
     "data": {
      "image/png": "[encoded data removed]",
      "text/plain": [
       "<Figure size 2500x1000 with 2 Axes>"
      ]
     },
     "metadata": {},
     "output_type": "display_data"
    }
   ],
   "source": [
    "msno.matrix(health)"
   ]
  },
  {
   "cell_type": "code",
   "execution_count": 71,
   "id": "b520d868",
   "metadata": {},
   "outputs": [],
   "source": [
    "# Dropping the null values from target variable\n",
    "health.drop(health[health['health_insurance_price'].isnull()].index,axis=0, inplace=True)"
   ]
  },
  {
   "cell_type": "code",
   "execution_count": 72,
   "id": "a191666f",
   "metadata": {},
   "outputs": [
    {
     "data": {
      "text/plain": [
       "age                       28\n",
       "gender                     0\n",
       "BMI                       23\n",
       "Children                   0\n",
       "smoking_status             0\n",
       "location                   0\n",
       "health_insurance_price     0\n",
       "dtype: int64"
      ]
     },
     "execution_count": 72,
     "metadata": {},
     "output_type": "execute_result"
    }
   ],
   "source": [
    "health.isnull().sum()"
   ]
  },
  {
   "cell_type": "code",
   "execution_count": 73,
   "id": "e8ef6108",
   "metadata": {},
   "outputs": [
    {
     "data": {
      "text/plain": [
       "(1335, 7)"
      ]
     },
     "execution_count": 73,
     "metadata": {},
     "output_type": "execute_result"
    }
   ],
   "source": [
    "health.shape"
   ]
  },
  {
   "cell_type": "markdown",
   "id": "9dc2afd0",
   "metadata": {},
   "source": [
    "# Before dealing with missing values we have to encoded all catagorical values to numerical values"
   ]
  },
  {
   "cell_type": "code",
   "execution_count": 74,
   "id": "5cb6362f",
   "metadata": {},
   "outputs": [],
   "source": [
    "#Converting males to 0 and females to 1\n",
    "health['gender'] =health.gender.map({'male': 0, 'female':1})\n",
    "\n",
    "# converting smoking_status to no=0 and yes=1\n",
    "health['smoking_status'] = health.smoking_status.map({'no': 0, 'yes':1})\n",
    "\n",
    "# converting lication to southwest = 0, southeast=1,northwest=2, northeast=3\n",
    "health['location'] = health['location'].map({'southwest': 0, 'southeast':1, 'northwest':2, 'northeast':3})"
   ]
  },
  {
   "cell_type": "code",
   "execution_count": 75,
   "id": "ddaa1f24",
   "metadata": {},
   "outputs": [
    {
     "data": {
      "text/html": [
       "<div>\n",
       "<style scoped>\n",
       "    .dataframe tbody tr th:only-of-type {\n",
       "        vertical-align: middle;\n",
       "    }\n",
       "\n",
       "    .dataframe tbody tr th {\n",
       "        vertical-align: top;\n",
       "    }\n",
       "\n",
       "    .dataframe thead th {\n",
       "        text-align: right;\n",
       "    }\n",
       "</style>\n",
       "<table border=\"1\" class=\"dataframe\">\n",
       "  <thead>\n",
       "    <tr style=\"text-align: right;\">\n",
       "      <th></th>\n",
       "      <th>age</th>\n",
       "      <th>gender</th>\n",
       "      <th>BMI</th>\n",
       "      <th>Children</th>\n",
       "      <th>smoking_status</th>\n",
       "      <th>location</th>\n",
       "      <th>health_insurance_price</th>\n",
       "    </tr>\n",
       "  </thead>\n",
       "  <tbody>\n",
       "    <tr>\n",
       "      <th>0</th>\n",
       "      <td>19.0</td>\n",
       "      <td>1</td>\n",
       "      <td>NaN</td>\n",
       "      <td>0</td>\n",
       "      <td>1</td>\n",
       "      <td>0</td>\n",
       "      <td>16884.92400</td>\n",
       "    </tr>\n",
       "    <tr>\n",
       "      <th>1</th>\n",
       "      <td>18.0</td>\n",
       "      <td>0</td>\n",
       "      <td>33.770</td>\n",
       "      <td>1</td>\n",
       "      <td>0</td>\n",
       "      <td>1</td>\n",
       "      <td>1725.55230</td>\n",
       "    </tr>\n",
       "    <tr>\n",
       "      <th>2</th>\n",
       "      <td>28.0</td>\n",
       "      <td>0</td>\n",
       "      <td>33.000</td>\n",
       "      <td>3</td>\n",
       "      <td>0</td>\n",
       "      <td>1</td>\n",
       "      <td>4449.46200</td>\n",
       "    </tr>\n",
       "    <tr>\n",
       "      <th>3</th>\n",
       "      <td>33.0</td>\n",
       "      <td>0</td>\n",
       "      <td>22.705</td>\n",
       "      <td>0</td>\n",
       "      <td>0</td>\n",
       "      <td>2</td>\n",
       "      <td>21984.47061</td>\n",
       "    </tr>\n",
       "    <tr>\n",
       "      <th>4</th>\n",
       "      <td>32.0</td>\n",
       "      <td>0</td>\n",
       "      <td>28.880</td>\n",
       "      <td>0</td>\n",
       "      <td>0</td>\n",
       "      <td>2</td>\n",
       "      <td>3866.85520</td>\n",
       "    </tr>\n",
       "  </tbody>\n",
       "</table>\n",
       "</div>"
      ],
      "text/plain": [
       "    age  gender     BMI  Children  smoking_status  location  \\\n",
       "0  19.0       1     NaN         0               1         0   \n",
       "1  18.0       0  33.770         1               0         1   \n",
       "2  28.0       0  33.000         3               0         1   \n",
       "3  33.0       0  22.705         0               0         2   \n",
       "4  32.0       0  28.880         0               0         2   \n",
       "\n",
       "   health_insurance_price  \n",
       "0             16884.92400  \n",
       "1              1725.55230  \n",
       "2              4449.46200  \n",
       "3             21984.47061  \n",
       "4              3866.85520  "
      ]
     },
     "execution_count": 75,
     "metadata": {},
     "output_type": "execute_result"
    }
   ],
   "source": [
    "health.head()"
   ]
  },
  {
   "cell_type": "code",
   "execution_count": 76,
   "id": "dcce8699",
   "metadata": {},
   "outputs": [
    {
     "data": {
      "text/html": [
       "<div>\n",
       "<style scoped>\n",
       "    .dataframe tbody tr th:only-of-type {\n",
       "        vertical-align: middle;\n",
       "    }\n",
       "\n",
       "    .dataframe tbody tr th {\n",
       "        vertical-align: top;\n",
       "    }\n",
       "\n",
       "    .dataframe thead th {\n",
       "        text-align: right;\n",
       "    }\n",
       "</style>\n",
       "<table border=\"1\" class=\"dataframe\">\n",
       "  <thead>\n",
       "    <tr style=\"text-align: right;\">\n",
       "      <th></th>\n",
       "      <th>age</th>\n",
       "      <th>gender</th>\n",
       "      <th>BMI</th>\n",
       "      <th>Children</th>\n",
       "      <th>smoking_status</th>\n",
       "      <th>location</th>\n",
       "    </tr>\n",
       "  </thead>\n",
       "  <tbody>\n",
       "    <tr>\n",
       "      <th>0</th>\n",
       "      <td>19.0</td>\n",
       "      <td>1</td>\n",
       "      <td>NaN</td>\n",
       "      <td>0</td>\n",
       "      <td>1</td>\n",
       "      <td>0</td>\n",
       "    </tr>\n",
       "    <tr>\n",
       "      <th>1</th>\n",
       "      <td>18.0</td>\n",
       "      <td>0</td>\n",
       "      <td>33.770</td>\n",
       "      <td>1</td>\n",
       "      <td>0</td>\n",
       "      <td>1</td>\n",
       "    </tr>\n",
       "    <tr>\n",
       "      <th>2</th>\n",
       "      <td>28.0</td>\n",
       "      <td>0</td>\n",
       "      <td>33.000</td>\n",
       "      <td>3</td>\n",
       "      <td>0</td>\n",
       "      <td>1</td>\n",
       "    </tr>\n",
       "    <tr>\n",
       "      <th>3</th>\n",
       "      <td>33.0</td>\n",
       "      <td>0</td>\n",
       "      <td>22.705</td>\n",
       "      <td>0</td>\n",
       "      <td>0</td>\n",
       "      <td>2</td>\n",
       "    </tr>\n",
       "    <tr>\n",
       "      <th>4</th>\n",
       "      <td>32.0</td>\n",
       "      <td>0</td>\n",
       "      <td>28.880</td>\n",
       "      <td>0</td>\n",
       "      <td>0</td>\n",
       "      <td>2</td>\n",
       "    </tr>\n",
       "  </tbody>\n",
       "</table>\n",
       "</div>"
      ],
      "text/plain": [
       "    age  gender     BMI  Children  smoking_status  location\n",
       "0  19.0       1     NaN         0               1         0\n",
       "1  18.0       0  33.770         1               0         1\n",
       "2  28.0       0  33.000         3               0         1\n",
       "3  33.0       0  22.705         0               0         2\n",
       "4  32.0       0  28.880         0               0         2"
      ]
     },
     "execution_count": 76,
     "metadata": {},
     "output_type": "execute_result"
    }
   ],
   "source": [
    "# To avoid data leakage from outcom variable splitting the data set\n",
    "health1 = health.drop('health_insurance_price',axis=1)\n",
    "health1.head()"
   ]
  },
  {
   "cell_type": "code",
   "execution_count": 11,
   "id": "0eae4679",
   "metadata": {},
   "outputs": [
    {
     "data": {
      "text/plain": [
       "0    16884.92400\n",
       "1     1725.55230\n",
       "2     4449.46200\n",
       "3    21984.47061\n",
       "4     3866.85520\n",
       "Name: health_insurance_price, dtype: float64"
      ]
     },
     "execution_count": 11,
     "metadata": {},
     "output_type": "execute_result"
    }
   ],
   "source": [
    "# creating y variable only\n",
    "health2=health['health_insurance_price']\n",
    "health2.head()"
   ]
  },
  {
   "cell_type": "code",
   "execution_count": null,
   "id": "24b5c3d6",
   "metadata": {},
   "outputs": [],
   "source": []
  },
  {
   "cell_type": "code",
   "execution_count": null,
   "id": "59b3d8ab",
   "metadata": {},
   "outputs": [],
   "source": []
  },
  {
   "cell_type": "code",
   "execution_count": null,
   "id": "5ae6329c",
   "metadata": {},
   "outputs": [],
   "source": []
  },
  {
   "cell_type": "code",
   "execution_count": 78,
   "id": "72a0b66d",
   "metadata": {},
   "outputs": [
    {
     "name": "stdout",
     "output_type": "stream",
     "text": [
      "Imputing row 1/1335 with 1 missing, elapsed time: 0.160\n",
      "Imputing row 101/1335 with 0 missing, elapsed time: 0.160\n",
      "Imputing row 201/1335 with 0 missing, elapsed time: 0.160\n",
      "Imputing row 301/1335 with 0 missing, elapsed time: 0.160\n",
      "Imputing row 401/1335 with 0 missing, elapsed time: 0.160\n",
      "Imputing row 501/1335 with 0 missing, elapsed time: 0.160\n",
      "Imputing row 601/1335 with 0 missing, elapsed time: 0.160\n",
      "Imputing row 701/1335 with 0 missing, elapsed time: 0.160\n",
      "Imputing row 801/1335 with 0 missing, elapsed time: 0.160\n",
      "Imputing row 901/1335 with 0 missing, elapsed time: 0.160\n",
      "Imputing row 1001/1335 with 0 missing, elapsed time: 0.160\n",
      "Imputing row 1101/1335 with 0 missing, elapsed time: 0.160\n",
      "Imputing row 1201/1335 with 0 missing, elapsed time: 0.160\n",
      "Imputing row 1301/1335 with 0 missing, elapsed time: 0.160\n"
     ]
    },
    {
     "name": "stderr",
     "output_type": "stream",
     "text": [
      "C:\\Users\\SAIKAT\\AppData\\Local\\Temp\\ipykernel_23268\\1804907529.py:4: DeprecationWarning: In a future version, `df.iloc[:, i] = newvals` will attempt to set the values inplace instead of always setting a new array. To retain the old behavior, use either `df[df.columns[i]] = newvals` or, if columns are non-unique, `df.isetitem(i, newvals)`\n",
      "  health1_knn.iloc[:, :] = knn_imputer.fit_transform(health1_knn)\n"
     ]
    }
   ],
   "source": [
    "from fancyimpute import KNN\n",
    "knn_imputer = KNN()\n",
    "health1_knn = health1.copy(deep=True)\n",
    "health1_knn.iloc[:, :] = knn_imputer.fit_transform(health1_knn)"
   ]
  },
  {
   "cell_type": "code",
   "execution_count": null,
   "id": "4167f1e5",
   "metadata": {},
   "outputs": [],
   "source": []
  },
  {
   "cell_type": "code",
   "execution_count": 79,
   "id": "95098624",
   "metadata": {},
   "outputs": [
    {
     "name": "stderr",
     "output_type": "stream",
     "text": [
      "C:\\Users\\SAIKAT\\AppData\\Local\\Temp\\ipykernel_23268\\864030525.py:5: DeprecationWarning: In a future version, `df.iloc[:, i] = newvals` will attempt to set the values inplace instead of always setting a new array. To retain the old behavior, use either `df[df.columns[i]] = newvals` or, if columns are non-unique, `df.isetitem(i, newvals)`\n",
      "  health1_MICE.iloc[:, :] = MICE_imputer.fit_transform(health1_MICE)\n"
     ]
    }
   ],
   "source": [
    "# Imputation using MICE\n",
    "from fancyimpute import IterativeImputer\n",
    "MICE_imputer = IterativeImputer()\n",
    "health1_MICE = health1.copy(deep=True)\n",
    "health1_MICE.iloc[:, :] = MICE_imputer.fit_transform(health1_MICE)"
   ]
  },
  {
   "cell_type": "code",
   "execution_count": 80,
   "id": "097bd1bc",
   "metadata": {},
   "outputs": [
    {
     "data": {
      "text/html": [
       "<div>\n",
       "<style scoped>\n",
       "    .dataframe tbody tr th:only-of-type {\n",
       "        vertical-align: middle;\n",
       "    }\n",
       "\n",
       "    .dataframe tbody tr th {\n",
       "        vertical-align: top;\n",
       "    }\n",
       "\n",
       "    .dataframe thead th {\n",
       "        text-align: right;\n",
       "    }\n",
       "</style>\n",
       "<table border=\"1\" class=\"dataframe\">\n",
       "  <thead>\n",
       "    <tr style=\"text-align: right;\">\n",
       "      <th></th>\n",
       "      <th>age</th>\n",
       "      <th>gender</th>\n",
       "      <th>BMI</th>\n",
       "      <th>Children</th>\n",
       "      <th>smoking_status</th>\n",
       "      <th>location</th>\n",
       "    </tr>\n",
       "  </thead>\n",
       "  <tbody>\n",
       "    <tr>\n",
       "      <th>0</th>\n",
       "      <td>19.0</td>\n",
       "      <td>1.0</td>\n",
       "      <td>30.601433</td>\n",
       "      <td>0.0</td>\n",
       "      <td>1.0</td>\n",
       "      <td>0.0</td>\n",
       "    </tr>\n",
       "    <tr>\n",
       "      <th>1</th>\n",
       "      <td>18.0</td>\n",
       "      <td>0.0</td>\n",
       "      <td>33.770000</td>\n",
       "      <td>1.0</td>\n",
       "      <td>0.0</td>\n",
       "      <td>1.0</td>\n",
       "    </tr>\n",
       "    <tr>\n",
       "      <th>2</th>\n",
       "      <td>28.0</td>\n",
       "      <td>0.0</td>\n",
       "      <td>33.000000</td>\n",
       "      <td>3.0</td>\n",
       "      <td>0.0</td>\n",
       "      <td>1.0</td>\n",
       "    </tr>\n",
       "    <tr>\n",
       "      <th>3</th>\n",
       "      <td>33.0</td>\n",
       "      <td>0.0</td>\n",
       "      <td>22.705000</td>\n",
       "      <td>0.0</td>\n",
       "      <td>0.0</td>\n",
       "      <td>2.0</td>\n",
       "    </tr>\n",
       "    <tr>\n",
       "      <th>4</th>\n",
       "      <td>32.0</td>\n",
       "      <td>0.0</td>\n",
       "      <td>28.880000</td>\n",
       "      <td>0.0</td>\n",
       "      <td>0.0</td>\n",
       "      <td>2.0</td>\n",
       "    </tr>\n",
       "  </tbody>\n",
       "</table>\n",
       "</div>"
      ],
      "text/plain": [
       "    age  gender        BMI  Children  smoking_status  location\n",
       "0  19.0     1.0  30.601433       0.0             1.0       0.0\n",
       "1  18.0     0.0  33.770000       1.0             0.0       1.0\n",
       "2  28.0     0.0  33.000000       3.0             0.0       1.0\n",
       "3  33.0     0.0  22.705000       0.0             0.0       2.0\n",
       "4  32.0     0.0  28.880000       0.0             0.0       2.0"
      ]
     },
     "execution_count": 80,
     "metadata": {},
     "output_type": "execute_result"
    }
   ],
   "source": [
    "health1_MICE.head()"
   ]
  },
  {
   "cell_type": "code",
   "execution_count": 81,
   "id": "83f9c7ec",
   "metadata": {},
   "outputs": [
    {
     "data": {
      "text/plain": [
       "<Axes: xlabel='BMI', ylabel='Count'>"
      ]
     },
     "execution_count": 81,
     "metadata": {},
     "output_type": "execute_result"
    },
    {
     "data": {
      "image/png": "[encoded data removed]",
      "text/plain": [
       "<Figure size 700x500 with 3 Axes>"
      ]
     },
     "metadata": {},
     "output_type": "display_data"
    },
    {
     "data": {
      "image/png": "[encoded data removed]",
      "text/plain": [
       "<Figure size 700x500 with 3 Axes>"
      ]
     },
     "metadata": {},
     "output_type": "display_data"
    }
   ],
   "source": [
    "fig, ax =plt.subplots(1,3)\n",
    "sns.histplot(health['age'],bins=20, color=\"purple\", ax=ax[0])\n",
    "sns.histplot(health1_knn['age'], color=\"red\", bins=20, ax=ax[1])\n",
    "sns.histplot(health1_MICE['age'], color=\"green\", bins=20, ax=ax[2])\n",
    "\n",
    "fig, ax =plt.subplots(1,3)\n",
    "sns.histplot(health['BMI'],bins=20, color=\"purple\", ax=ax[0])\n",
    "sns.histplot(health1_knn['BMI'], color=\"red\", bins=20, ax=ax[1])\n",
    "sns.histplot(health1_MICE['BMI'], color=\"green\", bins=20, ax=ax[2])"
   ]
  },
  {
   "cell_type": "code",
   "execution_count": 82,
   "id": "efdf6b67",
   "metadata": {},
   "outputs": [
    {
     "data": {
      "text/plain": [
       "<Axes: >"
      ]
     },
     "execution_count": 82,
     "metadata": {},
     "output_type": "execute_result"
    },
    {
     "data": {
      "image/png": "[encoded data removed]",
      "text/plain": [
       "<Figure size 700x500 with 3 Axes>"
      ]
     },
     "metadata": {},
     "output_type": "display_data"
    },
    {
     "data": {
      "image/png": "[encoded data removed]",
      "text/plain": [
       "<Figure size 700x500 with 3 Axes>"
      ]
     },
     "metadata": {},
     "output_type": "display_data"
    }
   ],
   "source": [
    "fig, ax =plt.subplots(1,3)\n",
    "sns.boxplot(health['age'], color=\"purple\", ax=ax[0])\n",
    "sns.boxplot(health1_knn['age'], color=\"red\", ax=ax[1])\n",
    "sns.boxplot(health1_MICE['age'], color=\"green\", ax=ax[2])\n",
    "\n",
    "fig, ax =plt.subplots(1,3)\n",
    "sns.boxplot(health['BMI'], color=\"purple\", ax=ax[0])\n",
    "sns.boxplot(health1_knn['BMI'], color=\"red\", ax=ax[1])\n",
    "sns.boxplot(health1_MICE['BMI'], color=\"green\", ax=ax[2])"
   ]
  },
  {
   "cell_type": "code",
   "execution_count": 83,
   "id": "8088b8e0",
   "metadata": {},
   "outputs": [
    {
     "data": {
      "text/html": [
       "<div>\n",
       "<style scoped>\n",
       "    .dataframe tbody tr th:only-of-type {\n",
       "        vertical-align: middle;\n",
       "    }\n",
       "\n",
       "    .dataframe tbody tr th {\n",
       "        vertical-align: top;\n",
       "    }\n",
       "\n",
       "    .dataframe thead th {\n",
       "        text-align: right;\n",
       "    }\n",
       "</style>\n",
       "<table border=\"1\" class=\"dataframe\">\n",
       "  <thead>\n",
       "    <tr style=\"text-align: right;\">\n",
       "      <th></th>\n",
       "      <th>age</th>\n",
       "      <th>gender</th>\n",
       "      <th>BMI</th>\n",
       "      <th>Children</th>\n",
       "      <th>smoking_status</th>\n",
       "      <th>location</th>\n",
       "    </tr>\n",
       "  </thead>\n",
       "  <tbody>\n",
       "    <tr>\n",
       "      <th>count</th>\n",
       "      <td>1335.000000</td>\n",
       "      <td>1335.000000</td>\n",
       "      <td>1335.000000</td>\n",
       "      <td>1335.000000</td>\n",
       "      <td>1335.000000</td>\n",
       "      <td>1335.000000</td>\n",
       "    </tr>\n",
       "    <tr>\n",
       "      <th>mean</th>\n",
       "      <td>39.148449</td>\n",
       "      <td>0.495131</td>\n",
       "      <td>30.633335</td>\n",
       "      <td>1.095131</td>\n",
       "      <td>0.204494</td>\n",
       "      <td>1.484644</td>\n",
       "    </tr>\n",
       "    <tr>\n",
       "      <th>std</th>\n",
       "      <td>14.005110</td>\n",
       "      <td>0.500164</td>\n",
       "      <td>6.084193</td>\n",
       "      <td>1.206218</td>\n",
       "      <td>0.403483</td>\n",
       "      <td>1.105199</td>\n",
       "    </tr>\n",
       "    <tr>\n",
       "      <th>min</th>\n",
       "      <td>18.000000</td>\n",
       "      <td>0.000000</td>\n",
       "      <td>15.960000</td>\n",
       "      <td>0.000000</td>\n",
       "      <td>0.000000</td>\n",
       "      <td>0.000000</td>\n",
       "    </tr>\n",
       "    <tr>\n",
       "      <th>25%</th>\n",
       "      <td>26.010010</td>\n",
       "      <td>0.000000</td>\n",
       "      <td>26.199995</td>\n",
       "      <td>0.000000</td>\n",
       "      <td>0.000000</td>\n",
       "      <td>1.000000</td>\n",
       "    </tr>\n",
       "    <tr>\n",
       "      <th>50%</th>\n",
       "      <td>39.000000</td>\n",
       "      <td>0.000000</td>\n",
       "      <td>30.360000</td>\n",
       "      <td>1.000000</td>\n",
       "      <td>0.000000</td>\n",
       "      <td>1.000000</td>\n",
       "    </tr>\n",
       "    <tr>\n",
       "      <th>75%</th>\n",
       "      <td>51.000000</td>\n",
       "      <td>1.000000</td>\n",
       "      <td>34.540000</td>\n",
       "      <td>2.000000</td>\n",
       "      <td>0.000000</td>\n",
       "      <td>2.000000</td>\n",
       "    </tr>\n",
       "    <tr>\n",
       "      <th>max</th>\n",
       "      <td>64.000000</td>\n",
       "      <td>1.000000</td>\n",
       "      <td>53.130000</td>\n",
       "      <td>5.000000</td>\n",
       "      <td>1.000000</td>\n",
       "      <td>3.000000</td>\n",
       "    </tr>\n",
       "  </tbody>\n",
       "</table>\n",
       "</div>"
      ],
      "text/plain": [
       "               age       gender          BMI     Children  smoking_status  \\\n",
       "count  1335.000000  1335.000000  1335.000000  1335.000000     1335.000000   \n",
       "mean     39.148449     0.495131    30.633335     1.095131        0.204494   \n",
       "std      14.005110     0.500164     6.084193     1.206218        0.403483   \n",
       "min      18.000000     0.000000    15.960000     0.000000        0.000000   \n",
       "25%      26.010010     0.000000    26.199995     0.000000        0.000000   \n",
       "50%      39.000000     0.000000    30.360000     1.000000        0.000000   \n",
       "75%      51.000000     1.000000    34.540000     2.000000        0.000000   \n",
       "max      64.000000     1.000000    53.130000     5.000000        1.000000   \n",
       "\n",
       "          location  \n",
       "count  1335.000000  \n",
       "mean      1.484644  \n",
       "std       1.105199  \n",
       "min       0.000000  \n",
       "25%       1.000000  \n",
       "50%       1.000000  \n",
       "75%       2.000000  \n",
       "max       3.000000  "
      ]
     },
     "execution_count": 83,
     "metadata": {},
     "output_type": "execute_result"
    }
   ],
   "source": [
    "health1_knn.describe() # using describe function to see if there is any discrepency in numerical measures"
   ]
  },
  {
   "cell_type": "code",
   "execution_count": 84,
   "id": "b6ae0e25",
   "metadata": {},
   "outputs": [
    {
     "data": {
      "text/html": [
       "<div>\n",
       "<style scoped>\n",
       "    .dataframe tbody tr th:only-of-type {\n",
       "        vertical-align: middle;\n",
       "    }\n",
       "\n",
       "    .dataframe tbody tr th {\n",
       "        vertical-align: top;\n",
       "    }\n",
       "\n",
       "    .dataframe thead th {\n",
       "        text-align: right;\n",
       "    }\n",
       "</style>\n",
       "<table border=\"1\" class=\"dataframe\">\n",
       "  <thead>\n",
       "    <tr style=\"text-align: right;\">\n",
       "      <th></th>\n",
       "      <th>age</th>\n",
       "      <th>gender</th>\n",
       "      <th>BMI</th>\n",
       "      <th>Children</th>\n",
       "      <th>smoking_status</th>\n",
       "      <th>location</th>\n",
       "    </tr>\n",
       "  </thead>\n",
       "  <tbody>\n",
       "    <tr>\n",
       "      <th>count</th>\n",
       "      <td>1335.000000</td>\n",
       "      <td>1335.000000</td>\n",
       "      <td>1335.000000</td>\n",
       "      <td>1335.000000</td>\n",
       "      <td>1335.000000</td>\n",
       "      <td>1335.000000</td>\n",
       "    </tr>\n",
       "    <tr>\n",
       "      <th>mean</th>\n",
       "      <td>39.148449</td>\n",
       "      <td>0.495131</td>\n",
       "      <td>30.633335</td>\n",
       "      <td>1.095131</td>\n",
       "      <td>0.204494</td>\n",
       "      <td>1.484644</td>\n",
       "    </tr>\n",
       "    <tr>\n",
       "      <th>std</th>\n",
       "      <td>14.005110</td>\n",
       "      <td>0.500164</td>\n",
       "      <td>6.084193</td>\n",
       "      <td>1.206218</td>\n",
       "      <td>0.403483</td>\n",
       "      <td>1.105199</td>\n",
       "    </tr>\n",
       "    <tr>\n",
       "      <th>min</th>\n",
       "      <td>18.000000</td>\n",
       "      <td>0.000000</td>\n",
       "      <td>15.960000</td>\n",
       "      <td>0.000000</td>\n",
       "      <td>0.000000</td>\n",
       "      <td>0.000000</td>\n",
       "    </tr>\n",
       "    <tr>\n",
       "      <th>25%</th>\n",
       "      <td>26.010010</td>\n",
       "      <td>0.000000</td>\n",
       "      <td>26.199995</td>\n",
       "      <td>0.000000</td>\n",
       "      <td>0.000000</td>\n",
       "      <td>1.000000</td>\n",
       "    </tr>\n",
       "    <tr>\n",
       "      <th>50%</th>\n",
       "      <td>39.000000</td>\n",
       "      <td>0.000000</td>\n",
       "      <td>30.360000</td>\n",
       "      <td>1.000000</td>\n",
       "      <td>0.000000</td>\n",
       "      <td>1.000000</td>\n",
       "    </tr>\n",
       "    <tr>\n",
       "      <th>75%</th>\n",
       "      <td>51.000000</td>\n",
       "      <td>1.000000</td>\n",
       "      <td>34.540000</td>\n",
       "      <td>2.000000</td>\n",
       "      <td>0.000000</td>\n",
       "      <td>2.000000</td>\n",
       "    </tr>\n",
       "    <tr>\n",
       "      <th>max</th>\n",
       "      <td>64.000000</td>\n",
       "      <td>1.000000</td>\n",
       "      <td>53.130000</td>\n",
       "      <td>5.000000</td>\n",
       "      <td>1.000000</td>\n",
       "      <td>3.000000</td>\n",
       "    </tr>\n",
       "  </tbody>\n",
       "</table>\n",
       "</div>"
      ],
      "text/plain": [
       "               age       gender          BMI     Children  smoking_status  \\\n",
       "count  1335.000000  1335.000000  1335.000000  1335.000000     1335.000000   \n",
       "mean     39.148449     0.495131    30.633335     1.095131        0.204494   \n",
       "std      14.005110     0.500164     6.084193     1.206218        0.403483   \n",
       "min      18.000000     0.000000    15.960000     0.000000        0.000000   \n",
       "25%      26.010010     0.000000    26.199995     0.000000        0.000000   \n",
       "50%      39.000000     0.000000    30.360000     1.000000        0.000000   \n",
       "75%      51.000000     1.000000    34.540000     2.000000        0.000000   \n",
       "max      64.000000     1.000000    53.130000     5.000000        1.000000   \n",
       "\n",
       "          location  \n",
       "count  1335.000000  \n",
       "mean      1.484644  \n",
       "std       1.105199  \n",
       "min       0.000000  \n",
       "25%       1.000000  \n",
       "50%       1.000000  \n",
       "75%       2.000000  \n",
       "max       3.000000  "
      ]
     },
     "execution_count": 84,
     "metadata": {},
     "output_type": "execute_result"
    }
   ],
   "source": [
    "health1_knn.describe() # using describe function to see if there is any discrepency in numerical measure"
   ]
  },
  {
   "cell_type": "code",
   "execution_count": 85,
   "id": "bcc0c57e",
   "metadata": {},
   "outputs": [
    {
     "data": {
      "text/html": [
       "<div>\n",
       "<style scoped>\n",
       "    .dataframe tbody tr th:only-of-type {\n",
       "        vertical-align: middle;\n",
       "    }\n",
       "\n",
       "    .dataframe tbody tr th {\n",
       "        vertical-align: top;\n",
       "    }\n",
       "\n",
       "    .dataframe thead th {\n",
       "        text-align: right;\n",
       "    }\n",
       "</style>\n",
       "<table border=\"1\" class=\"dataframe\">\n",
       "  <thead>\n",
       "    <tr style=\"text-align: right;\">\n",
       "      <th></th>\n",
       "      <th>age</th>\n",
       "      <th>gender</th>\n",
       "      <th>BMI</th>\n",
       "      <th>Children</th>\n",
       "      <th>smoking_status</th>\n",
       "      <th>location</th>\n",
       "      <th>health_insurance_price</th>\n",
       "    </tr>\n",
       "  </thead>\n",
       "  <tbody>\n",
       "    <tr>\n",
       "      <th>count</th>\n",
       "      <td>1307.000000</td>\n",
       "      <td>1335.000000</td>\n",
       "      <td>1312.000000</td>\n",
       "      <td>1335.000000</td>\n",
       "      <td>1335.000000</td>\n",
       "      <td>1335.000000</td>\n",
       "      <td>1335.000000</td>\n",
       "    </tr>\n",
       "    <tr>\n",
       "      <th>mean</th>\n",
       "      <td>39.179801</td>\n",
       "      <td>0.495131</td>\n",
       "      <td>30.631189</td>\n",
       "      <td>1.095131</td>\n",
       "      <td>0.204494</td>\n",
       "      <td>1.484644</td>\n",
       "      <td>13277.238554</td>\n",
       "    </tr>\n",
       "    <tr>\n",
       "      <th>std</th>\n",
       "      <td>14.058038</td>\n",
       "      <td>0.500164</td>\n",
       "      <td>6.107345</td>\n",
       "      <td>1.206218</td>\n",
       "      <td>0.403483</td>\n",
       "      <td>1.105199</td>\n",
       "      <td>12113.150034</td>\n",
       "    </tr>\n",
       "    <tr>\n",
       "      <th>min</th>\n",
       "      <td>18.000000</td>\n",
       "      <td>0.000000</td>\n",
       "      <td>15.960000</td>\n",
       "      <td>0.000000</td>\n",
       "      <td>0.000000</td>\n",
       "      <td>0.000000</td>\n",
       "      <td>1121.873900</td>\n",
       "    </tr>\n",
       "    <tr>\n",
       "      <th>25%</th>\n",
       "      <td>26.000000</td>\n",
       "      <td>0.000000</td>\n",
       "      <td>26.195000</td>\n",
       "      <td>0.000000</td>\n",
       "      <td>0.000000</td>\n",
       "      <td>1.000000</td>\n",
       "      <td>4746.698450</td>\n",
       "    </tr>\n",
       "    <tr>\n",
       "      <th>50%</th>\n",
       "      <td>39.000000</td>\n",
       "      <td>0.000000</td>\n",
       "      <td>30.305000</td>\n",
       "      <td>1.000000</td>\n",
       "      <td>0.000000</td>\n",
       "      <td>1.000000</td>\n",
       "      <td>9386.161300</td>\n",
       "    </tr>\n",
       "    <tr>\n",
       "      <th>75%</th>\n",
       "      <td>51.000000</td>\n",
       "      <td>1.000000</td>\n",
       "      <td>34.580000</td>\n",
       "      <td>2.000000</td>\n",
       "      <td>0.000000</td>\n",
       "      <td>2.000000</td>\n",
       "      <td>16622.107580</td>\n",
       "    </tr>\n",
       "    <tr>\n",
       "      <th>max</th>\n",
       "      <td>64.000000</td>\n",
       "      <td>1.000000</td>\n",
       "      <td>53.130000</td>\n",
       "      <td>5.000000</td>\n",
       "      <td>1.000000</td>\n",
       "      <td>3.000000</td>\n",
       "      <td>63770.428010</td>\n",
       "    </tr>\n",
       "  </tbody>\n",
       "</table>\n",
       "</div>"
      ],
      "text/plain": [
       "               age       gender          BMI     Children  smoking_status  \\\n",
       "count  1307.000000  1335.000000  1312.000000  1335.000000     1335.000000   \n",
       "mean     39.179801     0.495131    30.631189     1.095131        0.204494   \n",
       "std      14.058038     0.500164     6.107345     1.206218        0.403483   \n",
       "min      18.000000     0.000000    15.960000     0.000000        0.000000   \n",
       "25%      26.000000     0.000000    26.195000     0.000000        0.000000   \n",
       "50%      39.000000     0.000000    30.305000     1.000000        0.000000   \n",
       "75%      51.000000     1.000000    34.580000     2.000000        0.000000   \n",
       "max      64.000000     1.000000    53.130000     5.000000        1.000000   \n",
       "\n",
       "          location  health_insurance_price  \n",
       "count  1335.000000             1335.000000  \n",
       "mean      1.484644            13277.238554  \n",
       "std       1.105199            12113.150034  \n",
       "min       0.000000             1121.873900  \n",
       "25%       1.000000             4746.698450  \n",
       "50%       1.000000             9386.161300  \n",
       "75%       2.000000            16622.107580  \n",
       "max       3.000000            63770.428010  "
      ]
     },
     "execution_count": 85,
     "metadata": {},
     "output_type": "execute_result"
    }
   ],
   "source": [
    "health.describe()"
   ]
  },
  {
   "cell_type": "markdown",
   "id": "86eaea95",
   "metadata": {},
   "source": [
    "see here fill the missing values KNN and MICE both performed well so we go any of them i will go with knn"
   ]
  },
  {
   "cell_type": "code",
   "execution_count": 86,
   "id": "d8b69331",
   "metadata": {},
   "outputs": [],
   "source": [
    "# concat every column\n",
    "health_missing=pd.concat([health1_knn,health2],axis=1)"
   ]
  },
  {
   "cell_type": "code",
   "execution_count": 87,
   "id": "d8943a66",
   "metadata": {},
   "outputs": [
    {
     "data": {
      "text/plain": [
       "age                       0\n",
       "gender                    0\n",
       "BMI                       0\n",
       "Children                  0\n",
       "smoking_status            0\n",
       "location                  0\n",
       "health_insurance_price    0\n",
       "dtype: int64"
      ]
     },
     "execution_count": 87,
     "metadata": {},
     "output_type": "execute_result"
    }
   ],
   "source": [
    "health_missing.isnull().sum()"
   ]
  },
  {
   "cell_type": "code",
   "execution_count": null,
   "id": "fb279aeb",
   "metadata": {},
   "outputs": [],
   "source": []
  },
  {
   "cell_type": "code",
   "execution_count": 88,
   "id": "8af35994",
   "metadata": {},
   "outputs": [
    {
     "name": "stdout",
     "output_type": "stream",
     "text": [
      "['age', 'gender', 'BMI', 'Children', 'smoking_status', 'location']\n"
     ]
    }
   ],
   "source": [
    "### Getting independent features\n",
    "\n",
    "independent_features=[feature for feature in health.columns if feature not in ['health_insurance_price']]\n",
    "print(independent_features)"
   ]
  },
  {
   "cell_type": "code",
   "execution_count": 89,
   "id": "0f241ba2",
   "metadata": {},
   "outputs": [
    {
     "data": {
      "image/png": "[encoded data removed]",
      "text/plain": [
       "<Figure size 2000x3000 with 6 Axes>"
      ]
     },
     "metadata": {},
     "output_type": "display_data"
    }
   ],
   "source": [
    "plt.figure(figsize=(20,30))\n",
    "for i in enumerate(independent_features):\n",
    "  plt.subplot(5, 2, i[0]+1)\n",
    "  sns.set(rc={'figure.figsize':(7,5)})\n",
    "  sns.boxplot(data=health, x=i[1])\n",
    "  plt.title(\"{}\".format(i[1]))"
   ]
  },
  {
   "cell_type": "markdown",
   "id": "5c6f6ce8",
   "metadata": {},
   "source": [
    "# Handling Outliers"
   ]
  },
  {
   "cell_type": "code",
   "execution_count": 90,
   "id": "776336ae",
   "metadata": {},
   "outputs": [
    {
     "name": "stdout",
     "output_type": "stream",
     "text": [
      "34.54 26.19999475000656\n",
      "8.340005249993439\n",
      "47.05000787499016\n",
      "13.689986875016402\n"
     ]
    }
   ],
   "source": [
    "# Here I am using IQR to remove outliers. I have already checked Z score and did not work well\n",
    "# IQR for price column\n",
    "Q1 = health_missing['BMI'].quantile(0.25)\n",
    "Q3 = health_missing['BMI'].quantile(0.75)\n",
    "print(Q3, Q1)\n",
    "IQR = Q3 - Q1\n",
    "print(IQR)\n",
    "upper_bound = Q3 + 1.5 * IQR\n",
    "lower_bound = Q1 - 1.5 * IQR\n",
    "print(upper_bound)\n",
    "print(lower_bound)"
   ]
  },
  {
   "cell_type": "code",
   "execution_count": 91,
   "id": "1ad1d652",
   "metadata": {},
   "outputs": [
    {
     "data": {
      "text/plain": [
       "(1335, 7)"
      ]
     },
     "execution_count": 91,
     "metadata": {},
     "output_type": "execute_result"
    }
   ],
   "source": [
    "health_missing_out = health_missing[health_missing.BMI < upper_bound]\n",
    "health_missing_out = health_missing[health_missing.BMI > lower_bound]\n",
    "health_missing_out.shape"
   ]
  },
  {
   "cell_type": "code",
   "execution_count": 92,
   "id": "127632af",
   "metadata": {},
   "outputs": [
    {
     "data": {
      "text/plain": [
       "<Axes: xlabel='BMI', ylabel='Count'>"
      ]
     },
     "execution_count": 92,
     "metadata": {},
     "output_type": "execute_result"
    },
    {
     "data": {
      "image/png": "[encoded data removed]",
      "text/plain": [
       "<Figure size 700x500 with 1 Axes>"
      ]
     },
     "metadata": {},
     "output_type": "display_data"
    }
   ],
   "source": [
    "sns.histplot(health_missing_out['BMI']) # examining distribution of area column "
   ]
  },
  {
   "cell_type": "code",
   "execution_count": 93,
   "id": "8fc9ed3c",
   "metadata": {},
   "outputs": [],
   "source": [
    "health=health_missing_out"
   ]
  },
  {
   "cell_type": "code",
   "execution_count": 94,
   "id": "d57632b7",
   "metadata": {},
   "outputs": [
    {
     "data": {
      "text/html": [
       "<div>\n",
       "<style scoped>\n",
       "    .dataframe tbody tr th:only-of-type {\n",
       "        vertical-align: middle;\n",
       "    }\n",
       "\n",
       "    .dataframe tbody tr th {\n",
       "        vertical-align: top;\n",
       "    }\n",
       "\n",
       "    .dataframe thead th {\n",
       "        text-align: right;\n",
       "    }\n",
       "</style>\n",
       "<table border=\"1\" class=\"dataframe\">\n",
       "  <thead>\n",
       "    <tr style=\"text-align: right;\">\n",
       "      <th></th>\n",
       "      <th>age</th>\n",
       "      <th>gender</th>\n",
       "      <th>BMI</th>\n",
       "      <th>Children</th>\n",
       "      <th>smoking_status</th>\n",
       "      <th>location</th>\n",
       "      <th>health_insurance_price</th>\n",
       "    </tr>\n",
       "  </thead>\n",
       "  <tbody>\n",
       "    <tr>\n",
       "      <th>0</th>\n",
       "      <td>19.0</td>\n",
       "      <td>1.0</td>\n",
       "      <td>26.19999</td>\n",
       "      <td>0.0</td>\n",
       "      <td>1.0</td>\n",
       "      <td>0.0</td>\n",
       "      <td>16884.92400</td>\n",
       "    </tr>\n",
       "    <tr>\n",
       "      <th>1</th>\n",
       "      <td>18.0</td>\n",
       "      <td>0.0</td>\n",
       "      <td>33.77000</td>\n",
       "      <td>1.0</td>\n",
       "      <td>0.0</td>\n",
       "      <td>1.0</td>\n",
       "      <td>1725.55230</td>\n",
       "    </tr>\n",
       "    <tr>\n",
       "      <th>2</th>\n",
       "      <td>28.0</td>\n",
       "      <td>0.0</td>\n",
       "      <td>33.00000</td>\n",
       "      <td>3.0</td>\n",
       "      <td>0.0</td>\n",
       "      <td>1.0</td>\n",
       "      <td>4449.46200</td>\n",
       "    </tr>\n",
       "    <tr>\n",
       "      <th>3</th>\n",
       "      <td>33.0</td>\n",
       "      <td>0.0</td>\n",
       "      <td>22.70500</td>\n",
       "      <td>0.0</td>\n",
       "      <td>0.0</td>\n",
       "      <td>2.0</td>\n",
       "      <td>21984.47061</td>\n",
       "    </tr>\n",
       "    <tr>\n",
       "      <th>4</th>\n",
       "      <td>32.0</td>\n",
       "      <td>0.0</td>\n",
       "      <td>28.88000</td>\n",
       "      <td>0.0</td>\n",
       "      <td>0.0</td>\n",
       "      <td>2.0</td>\n",
       "      <td>3866.85520</td>\n",
       "    </tr>\n",
       "    <tr>\n",
       "      <th>...</th>\n",
       "      <td>...</td>\n",
       "      <td>...</td>\n",
       "      <td>...</td>\n",
       "      <td>...</td>\n",
       "      <td>...</td>\n",
       "      <td>...</td>\n",
       "      <td>...</td>\n",
       "    </tr>\n",
       "    <tr>\n",
       "      <th>1333</th>\n",
       "      <td>50.0</td>\n",
       "      <td>0.0</td>\n",
       "      <td>30.97000</td>\n",
       "      <td>3.0</td>\n",
       "      <td>0.0</td>\n",
       "      <td>2.0</td>\n",
       "      <td>10600.54830</td>\n",
       "    </tr>\n",
       "    <tr>\n",
       "      <th>1334</th>\n",
       "      <td>18.0</td>\n",
       "      <td>1.0</td>\n",
       "      <td>31.92000</td>\n",
       "      <td>0.0</td>\n",
       "      <td>0.0</td>\n",
       "      <td>3.0</td>\n",
       "      <td>2205.98080</td>\n",
       "    </tr>\n",
       "    <tr>\n",
       "      <th>1335</th>\n",
       "      <td>18.0</td>\n",
       "      <td>1.0</td>\n",
       "      <td>36.85000</td>\n",
       "      <td>0.0</td>\n",
       "      <td>0.0</td>\n",
       "      <td>1.0</td>\n",
       "      <td>1629.83350</td>\n",
       "    </tr>\n",
       "    <tr>\n",
       "      <th>1336</th>\n",
       "      <td>21.0</td>\n",
       "      <td>1.0</td>\n",
       "      <td>25.80000</td>\n",
       "      <td>0.0</td>\n",
       "      <td>0.0</td>\n",
       "      <td>0.0</td>\n",
       "      <td>2007.94500</td>\n",
       "    </tr>\n",
       "    <tr>\n",
       "      <th>1337</th>\n",
       "      <td>61.0</td>\n",
       "      <td>1.0</td>\n",
       "      <td>29.07000</td>\n",
       "      <td>0.0</td>\n",
       "      <td>1.0</td>\n",
       "      <td>2.0</td>\n",
       "      <td>29141.36030</td>\n",
       "    </tr>\n",
       "  </tbody>\n",
       "</table>\n",
       "<p>1335 rows × 7 columns</p>\n",
       "</div>"
      ],
      "text/plain": [
       "       age  gender       BMI  Children  smoking_status  location  \\\n",
       "0     19.0     1.0  26.19999       0.0             1.0       0.0   \n",
       "1     18.0     0.0  33.77000       1.0             0.0       1.0   \n",
       "2     28.0     0.0  33.00000       3.0             0.0       1.0   \n",
       "3     33.0     0.0  22.70500       0.0             0.0       2.0   \n",
       "4     32.0     0.0  28.88000       0.0             0.0       2.0   \n",
       "...    ...     ...       ...       ...             ...       ...   \n",
       "1333  50.0     0.0  30.97000       3.0             0.0       2.0   \n",
       "1334  18.0     1.0  31.92000       0.0             0.0       3.0   \n",
       "1335  18.0     1.0  36.85000       0.0             0.0       1.0   \n",
       "1336  21.0     1.0  25.80000       0.0             0.0       0.0   \n",
       "1337  61.0     1.0  29.07000       0.0             1.0       2.0   \n",
       "\n",
       "      health_insurance_price  \n",
       "0                16884.92400  \n",
       "1                 1725.55230  \n",
       "2                 4449.46200  \n",
       "3                21984.47061  \n",
       "4                 3866.85520  \n",
       "...                      ...  \n",
       "1333             10600.54830  \n",
       "1334              2205.98080  \n",
       "1335              1629.83350  \n",
       "1336              2007.94500  \n",
       "1337             29141.36030  \n",
       "\n",
       "[1335 rows x 7 columns]"
      ]
     },
     "execution_count": 94,
     "metadata": {},
     "output_type": "execute_result"
    }
   ],
   "source": [
    "health"
   ]
  },
  {
   "cell_type": "code",
   "execution_count": null,
   "id": "f155476e",
   "metadata": {},
   "outputs": [],
   "source": []
  },
  {
   "cell_type": "code",
   "execution_count": 39,
   "id": "3b137302",
   "metadata": {},
   "outputs": [],
   "source": [
    "#Converting males to 0 and females to 1\n",
    "health['gender'] =health.gender.map({0: 'male', 1: 'female'})\n",
    "\n",
    "# converting smoking_status to no=0 and yes=1\n",
    "health['smoking_status'] = health.smoking_status.map({0: 'no', 1:'yes'})\n",
    "\n",
    "# converting lication to southwest = 0, southeast=1,northwest=2, northeast=3\n",
    "health['location'] = health['location'].map({0: 'southwest', 1:'southeast', 2:'northwest', 3:'northeast'})"
   ]
  },
  {
   "cell_type": "code",
   "execution_count": 40,
   "id": "f23a933f",
   "metadata": {},
   "outputs": [
    {
     "data": {
      "text/html": [
       "<div>\n",
       "<style scoped>\n",
       "    .dataframe tbody tr th:only-of-type {\n",
       "        vertical-align: middle;\n",
       "    }\n",
       "\n",
       "    .dataframe tbody tr th {\n",
       "        vertical-align: top;\n",
       "    }\n",
       "\n",
       "    .dataframe thead th {\n",
       "        text-align: right;\n",
       "    }\n",
       "</style>\n",
       "<table border=\"1\" class=\"dataframe\">\n",
       "  <thead>\n",
       "    <tr style=\"text-align: right;\">\n",
       "      <th></th>\n",
       "      <th>age</th>\n",
       "      <th>gender</th>\n",
       "      <th>BMI</th>\n",
       "      <th>Children</th>\n",
       "      <th>smoking_status</th>\n",
       "      <th>location</th>\n",
       "      <th>health_insurance_price</th>\n",
       "    </tr>\n",
       "  </thead>\n",
       "  <tbody>\n",
       "    <tr>\n",
       "      <th>0</th>\n",
       "      <td>19.0</td>\n",
       "      <td>female</td>\n",
       "      <td>26.19999</td>\n",
       "      <td>0.0</td>\n",
       "      <td>yes</td>\n",
       "      <td>southwest</td>\n",
       "      <td>16884.92400</td>\n",
       "    </tr>\n",
       "    <tr>\n",
       "      <th>1</th>\n",
       "      <td>18.0</td>\n",
       "      <td>male</td>\n",
       "      <td>33.77000</td>\n",
       "      <td>1.0</td>\n",
       "      <td>no</td>\n",
       "      <td>southeast</td>\n",
       "      <td>1725.55230</td>\n",
       "    </tr>\n",
       "    <tr>\n",
       "      <th>2</th>\n",
       "      <td>28.0</td>\n",
       "      <td>male</td>\n",
       "      <td>33.00000</td>\n",
       "      <td>3.0</td>\n",
       "      <td>no</td>\n",
       "      <td>southeast</td>\n",
       "      <td>4449.46200</td>\n",
       "    </tr>\n",
       "    <tr>\n",
       "      <th>3</th>\n",
       "      <td>33.0</td>\n",
       "      <td>male</td>\n",
       "      <td>22.70500</td>\n",
       "      <td>0.0</td>\n",
       "      <td>no</td>\n",
       "      <td>northwest</td>\n",
       "      <td>21984.47061</td>\n",
       "    </tr>\n",
       "    <tr>\n",
       "      <th>4</th>\n",
       "      <td>32.0</td>\n",
       "      <td>male</td>\n",
       "      <td>28.88000</td>\n",
       "      <td>0.0</td>\n",
       "      <td>no</td>\n",
       "      <td>northwest</td>\n",
       "      <td>3866.85520</td>\n",
       "    </tr>\n",
       "    <tr>\n",
       "      <th>...</th>\n",
       "      <td>...</td>\n",
       "      <td>...</td>\n",
       "      <td>...</td>\n",
       "      <td>...</td>\n",
       "      <td>...</td>\n",
       "      <td>...</td>\n",
       "      <td>...</td>\n",
       "    </tr>\n",
       "    <tr>\n",
       "      <th>1333</th>\n",
       "      <td>50.0</td>\n",
       "      <td>male</td>\n",
       "      <td>30.97000</td>\n",
       "      <td>3.0</td>\n",
       "      <td>no</td>\n",
       "      <td>northwest</td>\n",
       "      <td>10600.54830</td>\n",
       "    </tr>\n",
       "    <tr>\n",
       "      <th>1334</th>\n",
       "      <td>18.0</td>\n",
       "      <td>female</td>\n",
       "      <td>31.92000</td>\n",
       "      <td>0.0</td>\n",
       "      <td>no</td>\n",
       "      <td>northeast</td>\n",
       "      <td>2205.98080</td>\n",
       "    </tr>\n",
       "    <tr>\n",
       "      <th>1335</th>\n",
       "      <td>18.0</td>\n",
       "      <td>female</td>\n",
       "      <td>36.85000</td>\n",
       "      <td>0.0</td>\n",
       "      <td>no</td>\n",
       "      <td>southeast</td>\n",
       "      <td>1629.83350</td>\n",
       "    </tr>\n",
       "    <tr>\n",
       "      <th>1336</th>\n",
       "      <td>21.0</td>\n",
       "      <td>female</td>\n",
       "      <td>25.80000</td>\n",
       "      <td>0.0</td>\n",
       "      <td>no</td>\n",
       "      <td>southwest</td>\n",
       "      <td>2007.94500</td>\n",
       "    </tr>\n",
       "    <tr>\n",
       "      <th>1337</th>\n",
       "      <td>61.0</td>\n",
       "      <td>female</td>\n",
       "      <td>29.07000</td>\n",
       "      <td>0.0</td>\n",
       "      <td>yes</td>\n",
       "      <td>northwest</td>\n",
       "      <td>29141.36030</td>\n",
       "    </tr>\n",
       "  </tbody>\n",
       "</table>\n",
       "<p>1335 rows × 7 columns</p>\n",
       "</div>"
      ],
      "text/plain": [
       "       age  gender       BMI  Children smoking_status   location  \\\n",
       "0     19.0  female  26.19999       0.0            yes  southwest   \n",
       "1     18.0    male  33.77000       1.0             no  southeast   \n",
       "2     28.0    male  33.00000       3.0             no  southeast   \n",
       "3     33.0    male  22.70500       0.0             no  northwest   \n",
       "4     32.0    male  28.88000       0.0             no  northwest   \n",
       "...    ...     ...       ...       ...            ...        ...   \n",
       "1333  50.0    male  30.97000       3.0             no  northwest   \n",
       "1334  18.0  female  31.92000       0.0             no  northeast   \n",
       "1335  18.0  female  36.85000       0.0             no  southeast   \n",
       "1336  21.0  female  25.80000       0.0             no  southwest   \n",
       "1337  61.0  female  29.07000       0.0            yes  northwest   \n",
       "\n",
       "      health_insurance_price  \n",
       "0                16884.92400  \n",
       "1                 1725.55230  \n",
       "2                 4449.46200  \n",
       "3                21984.47061  \n",
       "4                 3866.85520  \n",
       "...                      ...  \n",
       "1333             10600.54830  \n",
       "1334              2205.98080  \n",
       "1335              1629.83350  \n",
       "1336              2007.94500  \n",
       "1337             29141.36030  \n",
       "\n",
       "[1335 rows x 7 columns]"
      ]
     },
     "execution_count": 40,
     "metadata": {},
     "output_type": "execute_result"
    }
   ],
   "source": [
    "health"
   ]
  },
  {
   "cell_type": "code",
   "execution_count": 95,
   "id": "206534ff",
   "metadata": {},
   "outputs": [
    {
     "data": {
      "image/png": "[encoded data removed]",
      "text/plain": [
       "<Figure size 700x500 with 1 Axes>"
      ]
     },
     "metadata": {},
     "output_type": "display_data"
    }
   ],
   "source": [
    "sns.set()\n",
    "sns.scatterplot(x='age',y='health_insurance_price',data=health)\n",
    "plt.show()"
   ]
  },
  {
   "cell_type": "code",
   "execution_count": 96,
   "id": "3a3645fd",
   "metadata": {},
   "outputs": [
    {
     "data": {
      "image/png": "[encoded data removed]",
      "text/plain": [
       "<Figure size 700x500 with 1 Axes>"
      ]
     },
     "metadata": {},
     "output_type": "display_data"
    }
   ],
   "source": [
    "sns.countplot(x='smoking_status',data=health,hue='gender')\n",
    "plt.show()"
   ]
  },
  {
   "cell_type": "code",
   "execution_count": 97,
   "id": "4163b987",
   "metadata": {},
   "outputs": [
    {
     "data": {
      "image/png": "[encoded data removed]",
      "text/plain": [
       "<Figure size 700x500 with 1 Axes>"
      ]
     },
     "metadata": {},
     "output_type": "display_data"
    }
   ],
   "source": [
    "sns.barplot(x='smoking_status',y='health_insurance_price',data=health,hue='gender')\n",
    "plt.show()"
   ]
  },
  {
   "cell_type": "code",
   "execution_count": 98,
   "id": "bfafa999",
   "metadata": {},
   "outputs": [
    {
     "data": {
      "text/plain": [
       "smoking_status\n",
       "0.0     8444.336767\n",
       "1.0    32077.757594\n",
       "Name: health_insurance_price, dtype: float64"
      ]
     },
     "execution_count": 98,
     "metadata": {},
     "output_type": "execute_result"
    }
   ],
   "source": [
    "health['health_insurance_price'].groupby(health['smoking_status']).mean()"
   ]
  },
  {
   "cell_type": "code",
   "execution_count": null,
   "id": "78277417",
   "metadata": {},
   "outputs": [],
   "source": []
  },
  {
   "cell_type": "code",
   "execution_count": 99,
   "id": "bfdc564d",
   "metadata": {},
   "outputs": [
    {
     "data": {
      "text/plain": [
       "<Axes: xlabel='Children', ylabel='count'>"
      ]
     },
     "execution_count": 99,
     "metadata": {},
     "output_type": "execute_result"
    },
    {
     "data": {
      "image/png": "[encoded data removed]",
      "text/plain": [
       "<Figure size 700x500 with 1 Axes>"
      ]
     },
     "metadata": {},
     "output_type": "display_data"
    }
   ],
   "source": [
    "# Number of Children\n",
    "sns.countplot(x='Children',data=health)"
   ]
  },
  {
   "cell_type": "code",
   "execution_count": null,
   "id": "696594e9",
   "metadata": {},
   "outputs": [],
   "source": []
  },
  {
   "cell_type": "code",
   "execution_count": 100,
   "id": "52a400f6",
   "metadata": {},
   "outputs": [
    {
     "data": {
      "text/plain": [
       "<Axes: >"
      ]
     },
     "execution_count": 100,
     "metadata": {},
     "output_type": "execute_result"
    },
    {
     "data": {
      "image/png": "[encoded data removed]",
      "text/plain": [
       "<Figure size 700x500 with 2 Axes>"
      ]
     },
     "metadata": {},
     "output_type": "display_data"
    }
   ],
   "source": [
    "cor=health.corr()\n",
    "sns.heatmap(cor,annot=True)"
   ]
  },
  {
   "cell_type": "code",
   "execution_count": 56,
   "id": "b4b27aa4",
   "metadata": {},
   "outputs": [
    {
     "name": "stderr",
     "output_type": "stream",
     "text": [
      "C:\\Users\\SAIKAT\\AppData\\Local\\Temp\\ipykernel_23268\\1762366150.py:1: FutureWarning: The default value of numeric_only in DataFrame.corr is deprecated. In a future version, it will default to False. Select only valid columns or specify the value of numeric_only to silence this warning.\n",
      "  corr = health.corr()\n"
     ]
    },
    {
     "data": {
      "text/plain": [
       "<Axes: >"
      ]
     },
     "execution_count": 56,
     "metadata": {},
     "output_type": "execute_result"
    },
    {
     "data": {
      "image/png": "[encoded data removed]",
      "text/plain": [
       "<Figure size 1000x800 with 2 Axes>"
      ]
     },
     "metadata": {},
     "output_type": "display_data"
    }
   ],
   "source": [
    "corr = health.corr()\n",
    "plt.figure(figsize=(10, 8))\n",
    "sns.heatmap(corr, annot=True, cmap = 'summer_r')"
   ]
  },
  {
   "cell_type": "code",
   "execution_count": null,
   "id": "8a108252",
   "metadata": {},
   "outputs": [],
   "source": []
  },
  {
   "cell_type": "code",
   "execution_count": null,
   "id": "9288ee59",
   "metadata": {},
   "outputs": [],
   "source": []
  },
  {
   "cell_type": "code",
   "execution_count": 101,
   "id": "7c383c0e",
   "metadata": {},
   "outputs": [
    {
     "data": {
      "text/html": [
       "<div>\n",
       "<style scoped>\n",
       "    .dataframe tbody tr th:only-of-type {\n",
       "        vertical-align: middle;\n",
       "    }\n",
       "\n",
       "    .dataframe tbody tr th {\n",
       "        vertical-align: top;\n",
       "    }\n",
       "\n",
       "    .dataframe thead th {\n",
       "        text-align: right;\n",
       "    }\n",
       "</style>\n",
       "<table border=\"1\" class=\"dataframe\">\n",
       "  <thead>\n",
       "    <tr style=\"text-align: right;\">\n",
       "      <th></th>\n",
       "      <th>age</th>\n",
       "      <th>gender</th>\n",
       "      <th>BMI</th>\n",
       "      <th>Children</th>\n",
       "      <th>smoking_status</th>\n",
       "      <th>location</th>\n",
       "    </tr>\n",
       "  </thead>\n",
       "  <tbody>\n",
       "    <tr>\n",
       "      <th>0</th>\n",
       "      <td>19.0</td>\n",
       "      <td>1.0</td>\n",
       "      <td>26.19999</td>\n",
       "      <td>0.0</td>\n",
       "      <td>1.0</td>\n",
       "      <td>0.0</td>\n",
       "    </tr>\n",
       "    <tr>\n",
       "      <th>1</th>\n",
       "      <td>18.0</td>\n",
       "      <td>0.0</td>\n",
       "      <td>33.77000</td>\n",
       "      <td>1.0</td>\n",
       "      <td>0.0</td>\n",
       "      <td>1.0</td>\n",
       "    </tr>\n",
       "    <tr>\n",
       "      <th>2</th>\n",
       "      <td>28.0</td>\n",
       "      <td>0.0</td>\n",
       "      <td>33.00000</td>\n",
       "      <td>3.0</td>\n",
       "      <td>0.0</td>\n",
       "      <td>1.0</td>\n",
       "    </tr>\n",
       "    <tr>\n",
       "      <th>3</th>\n",
       "      <td>33.0</td>\n",
       "      <td>0.0</td>\n",
       "      <td>22.70500</td>\n",
       "      <td>0.0</td>\n",
       "      <td>0.0</td>\n",
       "      <td>2.0</td>\n",
       "    </tr>\n",
       "    <tr>\n",
       "      <th>4</th>\n",
       "      <td>32.0</td>\n",
       "      <td>0.0</td>\n",
       "      <td>28.88000</td>\n",
       "      <td>0.0</td>\n",
       "      <td>0.0</td>\n",
       "      <td>2.0</td>\n",
       "    </tr>\n",
       "  </tbody>\n",
       "</table>\n",
       "</div>"
      ],
      "text/plain": [
       "    age  gender       BMI  Children  smoking_status  location\n",
       "0  19.0     1.0  26.19999       0.0             1.0       0.0\n",
       "1  18.0     0.0  33.77000       1.0             0.0       1.0\n",
       "2  28.0     0.0  33.00000       3.0             0.0       1.0\n",
       "3  33.0     0.0  22.70500       0.0             0.0       2.0\n",
       "4  32.0     0.0  28.88000       0.0             0.0       2.0"
      ]
     },
     "execution_count": 101,
     "metadata": {},
     "output_type": "execute_result"
    }
   ],
   "source": [
    "X = health_missing_out.drop('health_insurance_price',axis=1)\n",
    "X.head()"
   ]
  },
  {
   "cell_type": "code",
   "execution_count": 102,
   "id": "e7fb7ff6",
   "metadata": {},
   "outputs": [
    {
     "data": {
      "text/plain": [
       "age               0\n",
       "gender            0\n",
       "BMI               0\n",
       "Children          0\n",
       "smoking_status    0\n",
       "location          0\n",
       "dtype: int64"
      ]
     },
     "execution_count": 102,
     "metadata": {},
     "output_type": "execute_result"
    }
   ],
   "source": [
    "X.isnull().sum()"
   ]
  },
  {
   "cell_type": "code",
   "execution_count": 103,
   "id": "ea6da8e2",
   "metadata": {},
   "outputs": [],
   "source": [
    "y=health_missing_out['health_insurance_price']"
   ]
  },
  {
   "cell_type": "code",
   "execution_count": 104,
   "id": "c7642de0",
   "metadata": {},
   "outputs": [],
   "source": [
    "from sklearn.model_selection import train_test_split\n",
    "from sklearn.linear_model import LinearRegression"
   ]
  },
  {
   "cell_type": "code",
   "execution_count": 105,
   "id": "d562176e",
   "metadata": {},
   "outputs": [],
   "source": [
    "# splitting the dataset\n",
    "from sklearn.model_selection import train_test_split\n",
    "X_train, X_test, y_train, y_test = train_test_split(X, y, test_size=0.20, random_state=101)"
   ]
  },
  {
   "cell_type": "code",
   "execution_count": 106,
   "id": "0f6eec6d",
   "metadata": {},
   "outputs": [
    {
     "data": {
      "text/plain": [
       "array([[-0.66168796,  0.99439772, -0.45246482, -0.90404786, -0.51371716,\n",
       "        -1.35711931],\n",
       "       [ 1.62840003,  0.99439772,  1.43384332, -0.90404786, -0.51371716,\n",
       "        -0.4489718 ],\n",
       "       [ 0.91274753,  0.99439772,  0.12363278, -0.90404786, -0.51371716,\n",
       "        -1.35711931],\n",
       "       ...,\n",
       "       [ 1.27057378, -1.00563385,  0.58615685, -0.90404786, -0.51371716,\n",
       "         0.45917571],\n",
       "       [-1.52047095,  0.99439772,  1.43384332, -0.90404786, -0.51371716,\n",
       "        -0.4489718 ],\n",
       "       [ 0.84118228, -1.00563385, -0.83104324, -0.90404786, -0.51371716,\n",
       "        -1.35711931]])"
      ]
     },
     "execution_count": 106,
     "metadata": {},
     "output_type": "execute_result"
    }
   ],
   "source": [
    "# performing transformation of data\n",
    "from sklearn.preprocessing import StandardScaler\n",
    "sc = StandardScaler()\n",
    "X_train=sc.fit_transform(X_train)\n",
    "X_train"
   ]
  },
  {
   "cell_type": "code",
   "execution_count": 107,
   "id": "3190089e",
   "metadata": {},
   "outputs": [
    {
     "data": {
      "text/plain": [
       "array([[-0.08916596, -1.00563385, -1.7281095 , -0.07881443, -0.51371716,\n",
       "         0.45917571],\n",
       "       [ 0.98431278,  0.99439772, -0.38662509,  1.57165243, -0.51371716,\n",
       "        -1.35711931],\n",
       "       [-0.23229646, -1.00563385,  1.79016782,  1.57165243, -0.51371716,\n",
       "         0.45917571],\n",
       "       ...,\n",
       "       [-0.94794895, -1.00563385,  2.64694026, -0.07881443, -0.51371716,\n",
       "        -0.4489718 ],\n",
       "       [ 0.41179079,  0.99439772,  0.43635809, -0.90404786, -0.51371716,\n",
       "        -1.35711931],\n",
       "       [-1.52047095,  0.99439772,  0.11211083, -0.90404786, -0.51371716,\n",
       "        -0.4489718 ]])"
      ]
     },
     "execution_count": 107,
     "metadata": {},
     "output_type": "execute_result"
    }
   ],
   "source": [
    "X_test=sc.transform(X_test)\n",
    "X_test"
   ]
  },
  {
   "cell_type": "code",
   "execution_count": 59,
   "id": "7e662fa8",
   "metadata": {},
   "outputs": [
    {
     "data": {
      "text/html": [
       "<style>#sk-container-id-2 {color: black;background-color: white;}#sk-container-id-2 pre{padding: 0;}#sk-container-id-2 div.sk-toggleable {background-color: white;}#sk-container-id-2 label.sk-toggleable__label {cursor: pointer;display: block;width: 100%;margin-bottom: 0;padding: 0.3em;box-sizing: border-box;text-align: center;}#sk-container-id-2 label.sk-toggleable__label-arrow:before {content: \"▸\";float: left;margin-right: 0.25em;color: #696969;}#sk-container-id-2 label.sk-toggleable__label-arrow:hover:before {color: black;}#sk-container-id-2 div.sk-estimator:hover label.sk-toggleable__label-arrow:before {color: black;}#sk-container-id-2 div.sk-toggleable__content {max-height: 0;max-width: 0;overflow: hidden;text-align: left;background-color: #f0f8ff;}#sk-container-id-2 div.sk-toggleable__content pre {margin: 0.2em;color: black;border-radius: 0.25em;background-color: #f0f8ff;}#sk-container-id-2 input.sk-toggleable__control:checked~div.sk-toggleable__content {max-height: 200px;max-width: 100%;overflow: auto;}#sk-container-id-2 input.sk-toggleable__control:checked~label.sk-toggleable__label-arrow:before {content: \"▾\";}#sk-container-id-2 div.sk-estimator input.sk-toggleable__control:checked~label.sk-toggleable__label {background-color: #d4ebff;}#sk-container-id-2 div.sk-label input.sk-toggleable__control:checked~label.sk-toggleable__label {background-color: #d4ebff;}#sk-container-id-2 input.sk-hidden--visually {border: 0;clip: rect(1px 1px 1px 1px);clip: rect(1px, 1px, 1px, 1px);height: 1px;margin: -1px;overflow: hidden;padding: 0;position: absolute;width: 1px;}#sk-container-id-2 div.sk-estimator {font-family: monospace;background-color: #f0f8ff;border: 1px dotted black;border-radius: 0.25em;box-sizing: border-box;margin-bottom: 0.5em;}#sk-container-id-2 div.sk-estimator:hover {background-color: #d4ebff;}#sk-container-id-2 div.sk-parallel-item::after {content: \"\";width: 100%;border-bottom: 1px solid gray;flex-grow: 1;}#sk-container-id-2 div.sk-label:hover label.sk-toggleable__label {background-color: #d4ebff;}#sk-container-id-2 div.sk-serial::before {content: \"\";position: absolute;border-left: 1px solid gray;box-sizing: border-box;top: 0;bottom: 0;left: 50%;z-index: 0;}#sk-container-id-2 div.sk-serial {display: flex;flex-direction: column;align-items: center;background-color: white;padding-right: 0.2em;padding-left: 0.2em;position: relative;}#sk-container-id-2 div.sk-item {position: relative;z-index: 1;}#sk-container-id-2 div.sk-parallel {display: flex;align-items: stretch;justify-content: center;background-color: white;position: relative;}#sk-container-id-2 div.sk-item::before, #sk-container-id-2 div.sk-parallel-item::before {content: \"\";position: absolute;border-left: 1px solid gray;box-sizing: border-box;top: 0;bottom: 0;left: 50%;z-index: -1;}#sk-container-id-2 div.sk-parallel-item {display: flex;flex-direction: column;z-index: 1;position: relative;background-color: white;}#sk-container-id-2 div.sk-parallel-item:first-child::after {align-self: flex-end;width: 50%;}#sk-container-id-2 div.sk-parallel-item:last-child::after {align-self: flex-start;width: 50%;}#sk-container-id-2 div.sk-parallel-item:only-child::after {width: 0;}#sk-container-id-2 div.sk-dashed-wrapped {border: 1px dashed gray;margin: 0 0.4em 0.5em 0.4em;box-sizing: border-box;padding-bottom: 0.4em;background-color: white;}#sk-container-id-2 div.sk-label label {font-family: monospace;font-weight: bold;display: inline-block;line-height: 1.2em;}#sk-container-id-2 div.sk-label-container {text-align: center;}#sk-container-id-2 div.sk-container {/* jupyter's `normalize.less` sets `[hidden] { display: none; }` but bootstrap.min.css set `[hidden] { display: none !important; }` so we also need the `!important` here to be able to override the default hidden behavior on the sphinx rendered scikit-learn.org. See: https://github.com/scikit-learn/scikit-learn/issues/21755 */display: inline-block !important;position: relative;}#sk-container-id-2 div.sk-text-repr-fallback {display: none;}</style><div id=\"sk-container-id-2\" class=\"sk-top-container\"><div class=\"sk-text-repr-fallback\"><pre>LinearRegression()</pre><b>In a Jupyter environment, please rerun this cell to show the HTML representation or trust the notebook. <br />On GitHub, the HTML representation is unable to render, please try loading this page with nbviewer.org.</b></div><div class=\"sk-container\" hidden><div class=\"sk-item\"><div class=\"sk-estimator sk-toggleable\"><input class=\"sk-toggleable__control sk-hidden--visually\" id=\"sk-estimator-id-2\" type=\"checkbox\" checked><label for=\"sk-estimator-id-2\" class=\"sk-toggleable__label sk-toggleable__label-arrow\">LinearRegression</label><div class=\"sk-toggleable__content\"><pre>LinearRegression()</pre></div></div></div></div></div>"
      ],
      "text/plain": [
       "LinearRegression()"
      ]
     },
     "execution_count": 59,
     "metadata": {},
     "output_type": "execute_result"
    }
   ],
   "source": [
    "# fitting linear regression model\n",
    "lm = LinearRegression()\n",
    "lm.fit(X_train,y_train)"
   ]
  },
  {
   "cell_type": "code",
   "execution_count": 60,
   "id": "1ed5fac0",
   "metadata": {},
   "outputs": [
    {
     "name": "stdout",
     "output_type": "stream",
     "text": [
      "Coefficients:  [ 3.46167942e+03 -9.09347836e+00  2.09705065e+03  5.94119844e+02\n",
      "  9.54800669e+03  2.51849323e+02]\n"
     ]
    }
   ],
   "source": [
    " #regression coefficients\n",
    "print('Coefficients: ', lm.coef_)"
   ]
  },
  {
   "cell_type": "code",
   "execution_count": 61,
   "id": "d9909ecf",
   "metadata": {},
   "outputs": [],
   "source": [
    "# fitting model into test data\n",
    "y_pred = lm.predict(X_train)"
   ]
  },
  {
   "cell_type": "code",
   "execution_count": 62,
   "id": "475f9582",
   "metadata": {},
   "outputs": [],
   "source": [
    "# importing cost function libraries\n",
    "from sklearn.metrics import mean_absolute_error\n",
    "from sklearn.metrics import mean_squared_error\n",
    "from sklearn.metrics import r2_score"
   ]
  },
  {
   "cell_type": "code",
   "execution_count": 63,
   "id": "7a0ac119",
   "metadata": {},
   "outputs": [
    {
     "name": "stdout",
     "output_type": "stream",
     "text": [
      "0.7441423600902939\n"
     ]
    }
   ],
   "source": [
    "# calculting rsquared value\n",
    "r2 = r2_score(y_true=y_train,y_pred=y_pred)\n",
    "print(r2)"
   ]
  },
  {
   "cell_type": "code",
   "execution_count": 64,
   "id": "4fa3d3c4",
   "metadata": {},
   "outputs": [
    {
     "name": "stdout",
     "output_type": "stream",
     "text": [
      "Adjusted-R2 :  0.7431797655082408\n"
     ]
    }
   ],
   "source": [
    "# calculting adjusted rsquared value\n",
    "N=X.shape[0]\n",
    "p=5\n",
    "x = (1-r2)\n",
    "y = (N-1) / (N-p-1)\n",
    "adj_rsquared = (1 - (x * y))\n",
    "print(\"Adjusted-R2 : \" , adj_rsquared)"
   ]
  },
  {
   "cell_type": "code",
   "execution_count": 65,
   "id": "d6d8ae84",
   "metadata": {},
   "outputs": [
    {
     "name": "stdout",
     "output_type": "stream",
     "text": [
      "Mean of Residuals -1.7440497651975253e-12\n"
     ]
    }
   ],
   "source": [
    "# Checking mean value for residuala\n",
    "residuals = y_train.values-y_pred\n",
    "mean_residuals = np.mean(residuals)\n",
    "print(\"Mean of Residuals {}\".format(mean_residuals))"
   ]
  },
  {
   "cell_type": "code",
   "execution_count": 66,
   "id": "e71a8b6f",
   "metadata": {},
   "outputs": [
    {
     "name": "stderr",
     "output_type": "stream",
     "text": [
      "C:\\Users\\SAIKAT\\AppData\\Local\\Temp\\ipykernel_5608\\1894568083.py:2: UserWarning: \n",
      "\n",
      "`distplot` is a deprecated function and will be removed in seaborn v0.14.0.\n",
      "\n",
      "Please adapt your code to use either `displot` (a figure-level function with\n",
      "similar flexibility) or `histplot` (an axes-level function for histograms).\n",
      "\n",
      "For a guide to updating your code to use the new functions, please see\n",
      "https://gist.github.com/mwaskom/de44147ed2974457ad6372750bbe5751\n",
      "\n",
      "  sns.distplot((y_train-y_pred),bins=50)\n"
     ]
    },
    {
     "data": {
      "text/plain": [
       "<Axes: xlabel='health_insurance_price', ylabel='Density'>"
      ]
     },
     "execution_count": 66,
     "metadata": {},
     "output_type": "execute_result"
    },
    {
     "data": {
      "image/png": "[encoded data removed]",
      "text/plain": [
       "<Figure size 700x500 with 1 Axes>"
      ]
     },
     "metadata": {},
     "output_type": "display_data"
    }
   ],
   "source": [
    "#checking if errors are normally distributed are not\n",
    "sns.distplot((y_train-y_pred),bins=50)"
   ]
  },
  {
   "cell_type": "code",
   "execution_count": 67,
   "id": "3fa1dc30",
   "metadata": {},
   "outputs": [],
   "source": [
    "predictions = lm.predict(X_test) # predicting test set"
   ]
  },
  {
   "cell_type": "code",
   "execution_count": 68,
   "id": "0904eb1b",
   "metadata": {},
   "outputs": [
    {
     "data": {
      "text/plain": [
       "1082     5855.90250\n",
       "72      11741.72600\n",
       "1063     6548.19505\n",
       "670      4837.58230\n",
       "579      3206.49135\n",
       "Name: health_insurance_price, dtype: float64"
      ]
     },
     "execution_count": 68,
     "metadata": {},
     "output_type": "execute_result"
    }
   ],
   "source": [
    "y_test.head()"
   ]
  },
  {
   "cell_type": "code",
   "execution_count": 69,
   "id": "f962e694",
   "metadata": {},
   "outputs": [
    {
     "data": {
      "text/plain": [
       "array([ 4484.16303127, 11518.31825172, 12347.27198117,  7265.04559952,\n",
       "        2197.12063988, 13224.88781353,  6906.74651383,  4705.80382783,\n",
       "       12575.19485714, 11024.53711785,  4459.6433895 , 15196.34959262,\n",
       "       13736.70723873, 11684.01054331, 12732.8167508 , 15019.96248539,\n",
       "       13720.38086443, 12147.82713933, 13977.24456099, 31605.89602842,\n",
       "       12191.55050771, 24459.69140763,  5942.971643  ,  5827.98312694,\n",
       "       29866.05545838,  4571.67613996, 12553.63480293,  2944.55540192,\n",
       "       10615.33934874,  1941.44362738,  3723.51967037,  8588.20145539,\n",
       "       11433.08232436,  4685.44335311, 11186.01109875,  2179.62656787,\n",
       "        3847.68822331,  9824.17876526, 28827.7707519 , 33223.70628059,\n",
       "        6280.14306783,  2792.40872495, 39556.62955575, 29526.82838205,\n",
       "       24562.49290157, 11245.5032513 ,  6068.5186033 , 11064.256577  ,\n",
       "        8479.10287725, 11056.58663598,  9745.19262507, 33532.27437983,\n",
       "       17517.59546275, 37002.91723828,  4248.45756384, 28116.76891318,\n",
       "       11206.64648676, 28818.02442779,  3428.85617111,  3808.54657938,\n",
       "        2794.76176658, 14470.47683207,  5012.02404682,  3924.32807388,\n",
       "       12105.27882711, 12656.80417702,  6786.87604545, 13017.51006488,\n",
       "       26284.32502626, 13649.4853753 , 11536.74005013, 12434.01949973,\n",
       "       14246.8395557 , 11925.22695634,  3857.92325502, 12373.30321415,\n",
       "        2727.22619249, 11521.48462631,  2959.5341672 , 11318.36063016,\n",
       "        8737.81209404,  8901.142039  ,  5245.56427404,  6331.67393417,\n",
       "        5329.54010936, 37122.76853695,  5519.723568  ,  4514.52301997,\n",
       "         983.93573737, 35726.58950065,  7263.1712275 , 10094.27647665,\n",
       "       13222.51273202,  5180.11552614, 10976.4858508 , 29505.26880483,\n",
       "        4019.08328373, 12231.15066803, 13102.28451701,  5623.65620633,\n",
       "        1580.31763518, 12069.5927354 , 38445.88069903, 16776.55899367,\n",
       "       14174.05189301, 29510.84382751, 35715.4609767 ,  5802.71849947,\n",
       "       23331.02221687, 11141.1977396 , 26803.17097286,  6873.787899  ,\n",
       "       26960.08912227,  8334.04304438, 10719.46848634, 15505.37620826,\n",
       "        7691.92215667,  1132.52647777,  4627.52805303,  9411.58595576,\n",
       "       11865.41677438, 13198.36730375, 17328.67884743, 12267.30498625,\n",
       "        4815.87236566, 11372.94815295, 15717.77967094, 25806.98367664,\n",
       "        4522.88858505,  7767.7616711 , 29092.55720227, 35045.7603557 ,\n",
       "        5891.74454175, -2109.36787976, 13595.00451116,  5844.17143781,\n",
       "        8314.32187944, 12306.53657144, 11720.36282962,  2440.77777186,\n",
       "        8584.66663508,  9196.52510872, 10480.00765227,  4553.92766452,\n",
       "       10584.49001652, 38675.56931602, 14773.15696872, 29785.66119662,\n",
       "        7638.47722096, 10947.49174966,  5255.41773381, 10786.61338552,\n",
       "       10792.31051599,  9567.9730432 ,  9104.16504437, 10704.93769371,\n",
       "       15436.18817667,  1258.98667767, 37077.68593165, 13075.00523184,\n",
       "       33331.06844947, 18767.86706476, 36263.8968972 , 11778.19491096,\n",
       "        8416.21998254,  5904.57966008,  4528.90482908,  4139.60678706,\n",
       "        2517.82601116, 11499.12668828, 11410.72976943, 11492.92868704,\n",
       "       11752.73709968, 11783.26291872, 31326.56098388, 15795.47441643,\n",
       "       13072.92136374,  5360.21061369, 12451.62530025,  8767.30215984,\n",
       "        8280.37834185,  1446.7123107 , 10397.50251725,  6923.94465693,\n",
       "        9982.60663345, 10519.24169052, 29216.69311095, 16227.6900734 ,\n",
       "       27110.06256826, 10217.81540038,  8347.35068743, 28465.71725503,\n",
       "        9729.78429511,  6328.51431086,  9734.96864288,  2236.45996788,\n",
       "        4121.0492571 ,  6060.93741874, 13391.85411627,  3525.38154738,\n",
       "        9721.00079398,  8158.90462153, 10952.47284686, 10121.05352288,\n",
       "        1729.67925351, 14255.79424151,  4664.68927342,  9202.24615682,\n",
       "       15884.6416068 , 35455.44071631, 26206.73509351, 13369.43136745,\n",
       "        6235.12107501, 10716.13395777, 39944.72062568,  5430.66548862,\n",
       "       14071.68986235, 16176.48408842,  7210.98483973, 12322.52163175,\n",
       "        3381.40752737, 13359.88644799,  1833.62969338,  4458.20778578,\n",
       "       27706.7468615 ,  4071.99217202, 38058.64420352,  3260.66713609,\n",
       "       36558.82769531, 33369.67091196,  9489.86689193, 14213.31662822,\n",
       "       33625.35907537,  3611.17640428, 36666.18126701, 25840.50994941,\n",
       "        4808.15480897, 11867.03919603,  8446.96214961,  4281.17747489,\n",
       "        1804.43848654, 35092.10442121,  5094.50857132, 10126.88186483,\n",
       "        7906.66955802, 11406.28304893, 15773.79604617, 29534.64498369,\n",
       "        6540.42671353,  3406.03491195, 33235.90259488, 27088.26648981,\n",
       "        5788.55981844,  9939.30903729,  1332.98204004,  6688.6618756 ,\n",
       "        5119.27576458,   349.99044652,   275.08808934, 34785.44445043,\n",
       "       28374.24147857,  8856.23443962, 12117.661804  ,  -117.24523696,\n",
       "       10457.31623642,  9791.40538839,  2651.28811084])"
      ]
     },
     "execution_count": 69,
     "metadata": {},
     "output_type": "execute_result"
    }
   ],
   "source": [
    "predictions"
   ]
  },
  {
   "cell_type": "code",
   "execution_count": 70,
   "id": "486e9191",
   "metadata": {},
   "outputs": [
    {
     "name": "stdout",
     "output_type": "stream",
     "text": [
      "MAE: 4402.948825325743\n",
      "MSE: 38232378.78472396\n",
      "RMSE: 6183.23368349636\n"
     ]
    }
   ],
   "source": [
    "# Calculating error\n",
    "from sklearn import metrics\n",
    "print('MAE:', metrics.mean_absolute_error(y_test, predictions))\n",
    "print('MSE:', metrics.mean_squared_error(y_test, predictions))\n",
    "print('RMSE:', np.sqrt(metrics.mean_squared_error(y_test, predictions)))"
   ]
  },
  {
   "cell_type": "code",
   "execution_count": null,
   "id": "c0f0417f",
   "metadata": {},
   "outputs": [],
   "source": []
  },
  {
   "cell_type": "markdown",
   "id": "3530d92b",
   "metadata": {},
   "source": [
    "# Random Forest"
   ]
  },
  {
   "cell_type": "code",
   "execution_count": 71,
   "id": "25a40887",
   "metadata": {},
   "outputs": [
    {
     "data": {
      "text/html": [
       "<style>#sk-container-id-3 {color: black;background-color: white;}#sk-container-id-3 pre{padding: 0;}#sk-container-id-3 div.sk-toggleable {background-color: white;}#sk-container-id-3 label.sk-toggleable__label {cursor: pointer;display: block;width: 100%;margin-bottom: 0;padding: 0.3em;box-sizing: border-box;text-align: center;}#sk-container-id-3 label.sk-toggleable__label-arrow:before {content: \"▸\";float: left;margin-right: 0.25em;color: #696969;}#sk-container-id-3 label.sk-toggleable__label-arrow:hover:before {color: black;}#sk-container-id-3 div.sk-estimator:hover label.sk-toggleable__label-arrow:before {color: black;}#sk-container-id-3 div.sk-toggleable__content {max-height: 0;max-width: 0;overflow: hidden;text-align: left;background-color: #f0f8ff;}#sk-container-id-3 div.sk-toggleable__content pre {margin: 0.2em;color: black;border-radius: 0.25em;background-color: #f0f8ff;}#sk-container-id-3 input.sk-toggleable__control:checked~div.sk-toggleable__content {max-height: 200px;max-width: 100%;overflow: auto;}#sk-container-id-3 input.sk-toggleable__control:checked~label.sk-toggleable__label-arrow:before {content: \"▾\";}#sk-container-id-3 div.sk-estimator input.sk-toggleable__control:checked~label.sk-toggleable__label {background-color: #d4ebff;}#sk-container-id-3 div.sk-label input.sk-toggleable__control:checked~label.sk-toggleable__label {background-color: #d4ebff;}#sk-container-id-3 input.sk-hidden--visually {border: 0;clip: rect(1px 1px 1px 1px);clip: rect(1px, 1px, 1px, 1px);height: 1px;margin: -1px;overflow: hidden;padding: 0;position: absolute;width: 1px;}#sk-container-id-3 div.sk-estimator {font-family: monospace;background-color: #f0f8ff;border: 1px dotted black;border-radius: 0.25em;box-sizing: border-box;margin-bottom: 0.5em;}#sk-container-id-3 div.sk-estimator:hover {background-color: #d4ebff;}#sk-container-id-3 div.sk-parallel-item::after {content: \"\";width: 100%;border-bottom: 1px solid gray;flex-grow: 1;}#sk-container-id-3 div.sk-label:hover label.sk-toggleable__label {background-color: #d4ebff;}#sk-container-id-3 div.sk-serial::before {content: \"\";position: absolute;border-left: 1px solid gray;box-sizing: border-box;top: 0;bottom: 0;left: 50%;z-index: 0;}#sk-container-id-3 div.sk-serial {display: flex;flex-direction: column;align-items: center;background-color: white;padding-right: 0.2em;padding-left: 0.2em;position: relative;}#sk-container-id-3 div.sk-item {position: relative;z-index: 1;}#sk-container-id-3 div.sk-parallel {display: flex;align-items: stretch;justify-content: center;background-color: white;position: relative;}#sk-container-id-3 div.sk-item::before, #sk-container-id-3 div.sk-parallel-item::before {content: \"\";position: absolute;border-left: 1px solid gray;box-sizing: border-box;top: 0;bottom: 0;left: 50%;z-index: -1;}#sk-container-id-3 div.sk-parallel-item {display: flex;flex-direction: column;z-index: 1;position: relative;background-color: white;}#sk-container-id-3 div.sk-parallel-item:first-child::after {align-self: flex-end;width: 50%;}#sk-container-id-3 div.sk-parallel-item:last-child::after {align-self: flex-start;width: 50%;}#sk-container-id-3 div.sk-parallel-item:only-child::after {width: 0;}#sk-container-id-3 div.sk-dashed-wrapped {border: 1px dashed gray;margin: 0 0.4em 0.5em 0.4em;box-sizing: border-box;padding-bottom: 0.4em;background-color: white;}#sk-container-id-3 div.sk-label label {font-family: monospace;font-weight: bold;display: inline-block;line-height: 1.2em;}#sk-container-id-3 div.sk-label-container {text-align: center;}#sk-container-id-3 div.sk-container {/* jupyter's `normalize.less` sets `[hidden] { display: none; }` but bootstrap.min.css set `[hidden] { display: none !important; }` so we also need the `!important` here to be able to override the default hidden behavior on the sphinx rendered scikit-learn.org. See: https://github.com/scikit-learn/scikit-learn/issues/21755 */display: inline-block !important;position: relative;}#sk-container-id-3 div.sk-text-repr-fallback {display: none;}</style><div id=\"sk-container-id-3\" class=\"sk-top-container\"><div class=\"sk-text-repr-fallback\"><pre>RandomForestRegressor(random_state=0)</pre><b>In a Jupyter environment, please rerun this cell to show the HTML representation or trust the notebook. <br />On GitHub, the HTML representation is unable to render, please try loading this page with nbviewer.org.</b></div><div class=\"sk-container\" hidden><div class=\"sk-item\"><div class=\"sk-estimator sk-toggleable\"><input class=\"sk-toggleable__control sk-hidden--visually\" id=\"sk-estimator-id-3\" type=\"checkbox\" checked><label for=\"sk-estimator-id-3\" class=\"sk-toggleable__label sk-toggleable__label-arrow\">RandomForestRegressor</label><div class=\"sk-toggleable__content\"><pre>RandomForestRegressor(random_state=0)</pre></div></div></div></div></div>"
      ],
      "text/plain": [
       "RandomForestRegressor(random_state=0)"
      ]
     },
     "execution_count": 71,
     "metadata": {},
     "output_type": "execute_result"
    }
   ],
   "source": [
    "# Importing library\n",
    "from sklearn.ensemble import RandomForestRegressor\n",
    "  \n",
    " # create regressor object\n",
    "regressor = RandomForestRegressor(n_estimators = 100, random_state = 0)\n",
    "  \n",
    "# fit the regressor with x and y data\n",
    "regressor.fit(X_train, y_train) "
   ]
  },
  {
   "cell_type": "code",
   "execution_count": 72,
   "id": "b5c9a2ff",
   "metadata": {},
   "outputs": [
    {
     "data": {
      "text/plain": [
       "array([ 6269.8320363 , 12220.3416746 , 11378.0032354 ,  5323.7297721 ,\n",
       "        8465.9899665 , 14426.9980937 ,  7789.1128145 ,  3865.9046637 ,\n",
       "       12125.99551   , 16784.3515748 ,  3784.2825201 , 13625.321021  ,\n",
       "       10195.889519  ,  7498.2702429 , 10909.5645008 , 11069.9156661 ,\n",
       "       13271.8401387 , 10494.2226752 , 10537.6360374 , 37389.1602955 ,\n",
       "       12185.9367055 , 16876.8974303 ,  7763.7643787 ,  8385.094919  ,\n",
       "       24760.6264471 ,  5066.9288107 , 12426.0553684 , 11391.472835  ,\n",
       "        8513.8331305 ,  5372.4565134 , 10190.7977795 ,  6607.3431839 ,\n",
       "       15771.6875339 ,  2034.5807825 ,  9210.3134336 ,  2336.7935652 ,\n",
       "        5284.40839151, 13204.692899  , 37655.2166257 , 26060.2355492 ,\n",
       "        1921.6204325 ,  9524.0898471 , 47461.2344707 , 21138.8403922 ,\n",
       "       18214.0651823 , 11839.5681207 , 10229.8446544 ,  8006.3769599 ,\n",
       "        7844.1221274 , 11492.2651302 ,  8863.4561231 , 42198.1363582 ,\n",
       "       16524.0051173 , 48539.2754836 ,  8605.4381693 , 36930.1235468 ,\n",
       "       10342.8376944 , 19343.681198  ,  6287.8146614 ,  1260.5143295 ,\n",
       "        3226.88688751, 14573.0194872 ,  4963.2105035 ,  8147.5129515 ,\n",
       "        9201.5540061 , 12719.4149755 ,  5007.824918  , 12660.0865455 ,\n",
       "       16861.4376522 , 10660.6679256 ,  8690.0749077 ,  6357.3498959 ,\n",
       "       13306.6578468 , 12442.3477271 ,  5705.1855258 , 15607.0619819 ,\n",
       "        4254.11924856, 14491.1877577 ,  2986.9887582 ,  8730.3676916 ,\n",
       "       11011.116116  ,  8077.8191805 ,  6453.7031378 ,  5672.061697  ,\n",
       "        7256.7377324 , 46734.4625029 ,  7655.06757   ,  4278.2256615 ,\n",
       "        3299.878409  , 46136.1403547 ,  6084.9619217 ,  8714.506413  ,\n",
       "       11205.1954422 ,  4882.3969315 ,  7941.61997   , 36849.5467391 ,\n",
       "        7127.5249212 , 15379.1698655 , 14254.8421048 ,  6045.7207619 ,\n",
       "        5235.8812987 , 14947.0050357 , 47643.8717507 , 14712.8086708 ,\n",
       "       15365.3901419 , 20635.9552734 , 43109.6004517 ,  1641.102256  ,\n",
       "       14279.4869177 ,  7960.0234124 , 18123.1785333 ,  7059.150339  ,\n",
       "       20013.0802177 ,  5054.8110746 ,  6233.7820142 , 15000.5556703 ,\n",
       "        7525.5953027 ,  2340.56022669,  4817.7419058 ,  8282.5030884 ,\n",
       "       11212.1016399 , 16061.4284522 , 16062.0381109 , 10266.4955551 ,\n",
       "        4333.0671959 ,  9710.3566799 , 14162.5701825 , 18315.5905893 ,\n",
       "        3408.4092437 ,  6971.0733105 , 20500.7350662 , 40829.691835  ,\n",
       "        2044.6392484 ,  2748.904833  , 10016.6708528 ,  4462.957493  ,\n",
       "        8345.7315733 , 10427.7318858 , 13534.9945708 ,  4600.8396116 ,\n",
       "       12816.0628149 ,  8737.1164948 , 11374.776367  ,  3706.6034437 ,\n",
       "       11341.6216533 , 48823.409388  , 10385.6229185 , 38600.3694495 ,\n",
       "       10195.2056735 ,  9959.7050889 ,  3770.1965467 ,  8172.7083751 ,\n",
       "       10788.2549785 ,  7629.0523099 ,  9118.6587161 ,  9480.8085994 ,\n",
       "       14705.1694249 ,  8307.6506209 , 46041.8734713 , 14686.7959801 ,\n",
       "       46338.025998  , 18517.5194336 , 45533.6118022 , 12950.5222577 ,\n",
       "        5536.2893123 ,  1723.169979  ,  2885.2223785 ,  4701.0578279 ,\n",
       "        2141.6459439 , 17760.2195802 ,  8927.9851217 , 14330.3695455 ,\n",
       "       13380.9670188 , 11998.161007  , 39745.6663706 ,  9385.1126469 ,\n",
       "       13915.0757687 ,  4057.092215  , 18838.3136179 , 15992.5665041 ,\n",
       "        8879.0077838 ,  2516.64762557, 12679.4479246 ,  6501.3702877 ,\n",
       "       15055.7444464 , 11241.7320323 , 20211.8407649 , 13281.9487105 ,\n",
       "       32391.9801905 ,  7514.028973  ,  8871.2438422 , 36669.8278435 ,\n",
       "       10471.9588008 ,  7522.3763699 ,  9909.7796964 ,  3048.4539204 ,\n",
       "        8213.8582306 ,  6790.4596995 , 19659.6972836 , 12044.8358866 ,\n",
       "        7694.0044531 ,  7552.2643335 , 12880.2075237 , 15826.7554749 ,\n",
       "        5546.5592999 , 15101.350337  ,  1853.29845   ,  7767.3529    ,\n",
       "       16992.7643513 , 44299.1175646 , 17298.647904  , 12274.9310431 ,\n",
       "        6937.8299211 ,  8941.56668   , 48577.1364863 ,  3621.5028603 ,\n",
       "       14145.2988533 , 16127.6507823 ,  3955.5842894 , 12199.4068899 ,\n",
       "        3477.78183591, 15664.8690857 ,  2171.3324296 ,  3638.4961262 ,\n",
       "       19001.2969003 , 12959.6404465 , 44631.5523792 ,  2208.661152  ,\n",
       "       28715.0617361 , 39672.321041  ,  9060.2472743 , 14644.2211413 ,\n",
       "       41804.2678756 ,  8346.072183  , 45609.9761921 , 31616.919248  ,\n",
       "        5192.3414375 , 12521.0719137 ,  6873.471175  ,  3305.6088405 ,\n",
       "        8313.488596  , 42578.6374641 ,  2177.6309146 , 11592.291359  ,\n",
       "        7011.7200187 , 12165.1651841 , 15104.7869992 , 35528.9143367 ,\n",
       "        9517.7500075 ,  4106.847494  , 24693.4601152 , 34254.4266745 ,\n",
       "        3163.941421  ,  8103.5582685 ,  3360.6272285 ,  4914.2677146 ,\n",
       "        1637.4605615 ,  1733.232275  ,  4407.2583074 , 42250.8411809 ,\n",
       "       35578.0951706 ,  7660.670384  , 10273.8885059 , 13013.1666445 ,\n",
       "        3787.0775959 ,  7829.0712568 ,  4669.58495926])"
      ]
     },
     "execution_count": 72,
     "metadata": {},
     "output_type": "execute_result"
    }
   ],
   "source": [
    "# performing prediction\n",
    "y_pred8 = regressor.predict(X_test)\n",
    "y_pred8"
   ]
  },
  {
   "cell_type": "code",
   "execution_count": 82,
   "id": "f1a907d8",
   "metadata": {
    "scrolled": true
   },
   "outputs": [
    {
     "name": "stdout",
     "output_type": "stream",
     "text": [
      "MAE: 3105.930675240494\n",
      "MSE: 27042577.951823108\n",
      "RMSE: 5200.247874075149\n"
     ]
    }
   ],
   "source": [
    "# calculating error\n",
    "print('MAE:', metrics.mean_absolute_error(y_test, y_pred8))\n",
    "print('MSE:', metrics.mean_squared_error(y_test, y_pred8))\n",
    "print('RMSE:', np.sqrt(metrics.mean_squared_error(y_test, y_pred8)))"
   ]
  },
  {
   "cell_type": "code",
   "execution_count": 75,
   "id": "87c72374",
   "metadata": {},
   "outputs": [
    {
     "name": "stdout",
     "output_type": "stream",
     "text": [
      "0.8196371379153654\n"
     ]
    }
   ],
   "source": [
    "r2 =r2_score(y_test,y_pred8)\n",
    "print(r2)"
   ]
  },
  {
   "cell_type": "code",
   "execution_count": null,
   "id": "73b3730a",
   "metadata": {},
   "outputs": [],
   "source": []
  },
  {
   "cell_type": "markdown",
   "id": "a07160dc",
   "metadata": {},
   "source": [
    "# SVM"
   ]
  },
  {
   "cell_type": "code",
   "execution_count": 100,
   "id": "3d3bbcd0",
   "metadata": {},
   "outputs": [
    {
     "data": {
      "text/html": [
       "<style>#sk-container-id-9 {color: black;background-color: white;}#sk-container-id-9 pre{padding: 0;}#sk-container-id-9 div.sk-toggleable {background-color: white;}#sk-container-id-9 label.sk-toggleable__label {cursor: pointer;display: block;width: 100%;margin-bottom: 0;padding: 0.3em;box-sizing: border-box;text-align: center;}#sk-container-id-9 label.sk-toggleable__label-arrow:before {content: \"▸\";float: left;margin-right: 0.25em;color: #696969;}#sk-container-id-9 label.sk-toggleable__label-arrow:hover:before {color: black;}#sk-container-id-9 div.sk-estimator:hover label.sk-toggleable__label-arrow:before {color: black;}#sk-container-id-9 div.sk-toggleable__content {max-height: 0;max-width: 0;overflow: hidden;text-align: left;background-color: #f0f8ff;}#sk-container-id-9 div.sk-toggleable__content pre {margin: 0.2em;color: black;border-radius: 0.25em;background-color: #f0f8ff;}#sk-container-id-9 input.sk-toggleable__control:checked~div.sk-toggleable__content {max-height: 200px;max-width: 100%;overflow: auto;}#sk-container-id-9 input.sk-toggleable__control:checked~label.sk-toggleable__label-arrow:before {content: \"▾\";}#sk-container-id-9 div.sk-estimator input.sk-toggleable__control:checked~label.sk-toggleable__label {background-color: #d4ebff;}#sk-container-id-9 div.sk-label input.sk-toggleable__control:checked~label.sk-toggleable__label {background-color: #d4ebff;}#sk-container-id-9 input.sk-hidden--visually {border: 0;clip: rect(1px 1px 1px 1px);clip: rect(1px, 1px, 1px, 1px);height: 1px;margin: -1px;overflow: hidden;padding: 0;position: absolute;width: 1px;}#sk-container-id-9 div.sk-estimator {font-family: monospace;background-color: #f0f8ff;border: 1px dotted black;border-radius: 0.25em;box-sizing: border-box;margin-bottom: 0.5em;}#sk-container-id-9 div.sk-estimator:hover {background-color: #d4ebff;}#sk-container-id-9 div.sk-parallel-item::after {content: \"\";width: 100%;border-bottom: 1px solid gray;flex-grow: 1;}#sk-container-id-9 div.sk-label:hover label.sk-toggleable__label {background-color: #d4ebff;}#sk-container-id-9 div.sk-serial::before {content: \"\";position: absolute;border-left: 1px solid gray;box-sizing: border-box;top: 0;bottom: 0;left: 50%;z-index: 0;}#sk-container-id-9 div.sk-serial {display: flex;flex-direction: column;align-items: center;background-color: white;padding-right: 0.2em;padding-left: 0.2em;position: relative;}#sk-container-id-9 div.sk-item {position: relative;z-index: 1;}#sk-container-id-9 div.sk-parallel {display: flex;align-items: stretch;justify-content: center;background-color: white;position: relative;}#sk-container-id-9 div.sk-item::before, #sk-container-id-9 div.sk-parallel-item::before {content: \"\";position: absolute;border-left: 1px solid gray;box-sizing: border-box;top: 0;bottom: 0;left: 50%;z-index: -1;}#sk-container-id-9 div.sk-parallel-item {display: flex;flex-direction: column;z-index: 1;position: relative;background-color: white;}#sk-container-id-9 div.sk-parallel-item:first-child::after {align-self: flex-end;width: 50%;}#sk-container-id-9 div.sk-parallel-item:last-child::after {align-self: flex-start;width: 50%;}#sk-container-id-9 div.sk-parallel-item:only-child::after {width: 0;}#sk-container-id-9 div.sk-dashed-wrapped {border: 1px dashed gray;margin: 0 0.4em 0.5em 0.4em;box-sizing: border-box;padding-bottom: 0.4em;background-color: white;}#sk-container-id-9 div.sk-label label {font-family: monospace;font-weight: bold;display: inline-block;line-height: 1.2em;}#sk-container-id-9 div.sk-label-container {text-align: center;}#sk-container-id-9 div.sk-container {/* jupyter's `normalize.less` sets `[hidden] { display: none; }` but bootstrap.min.css set `[hidden] { display: none !important; }` so we also need the `!important` here to be able to override the default hidden behavior on the sphinx rendered scikit-learn.org. See: https://github.com/scikit-learn/scikit-learn/issues/21755 */display: inline-block !important;position: relative;}#sk-container-id-9 div.sk-text-repr-fallback {display: none;}</style><div id=\"sk-container-id-9\" class=\"sk-top-container\"><div class=\"sk-text-repr-fallback\"><pre>SVR()</pre><b>In a Jupyter environment, please rerun this cell to show the HTML representation or trust the notebook. <br />On GitHub, the HTML representation is unable to render, please try loading this page with nbviewer.org.</b></div><div class=\"sk-container\" hidden><div class=\"sk-item\"><div class=\"sk-estimator sk-toggleable\"><input class=\"sk-toggleable__control sk-hidden--visually\" id=\"sk-estimator-id-9\" type=\"checkbox\" checked><label for=\"sk-estimator-id-9\" class=\"sk-toggleable__label sk-toggleable__label-arrow\">SVR</label><div class=\"sk-toggleable__content\"><pre>SVR()</pre></div></div></div></div></div>"
      ],
      "text/plain": [
       "SVR()"
      ]
     },
     "execution_count": 100,
     "metadata": {},
     "output_type": "execute_result"
    }
   ],
   "source": [
    "# Importing SVR library and creating model\n",
    "from sklearn.svm import SVR\n",
    "svm = SVR()\n",
    "svm.fit(X_train, y_train)"
   ]
  },
  {
   "cell_type": "code",
   "execution_count": 101,
   "id": "e3fb7a90",
   "metadata": {},
   "outputs": [],
   "source": [
    "y_pred1 = svm.predict(X_test) # prediciting y"
   ]
  },
  {
   "cell_type": "code",
   "execution_count": 102,
   "id": "eb0bf15c",
   "metadata": {},
   "outputs": [
    {
     "name": "stdout",
     "output_type": "stream",
     "text": [
      "MAE: 8402.238557744651\n",
      "MSE: 166234507.65572584\n",
      "RMSE: 12893.196176888252\n"
     ]
    }
   ],
   "source": [
    "# Calculating error\n",
    "print('MAE:', metrics.mean_absolute_error(y_test, y_pred1))\n",
    "print('MSE:', metrics.mean_squared_error(y_test, y_pred1))\n",
    "print('RMSE:', np.sqrt(metrics.mean_squared_error(y_test, y_pred1)))"
   ]
  },
  {
   "cell_type": "code",
   "execution_count": null,
   "id": "2bea7b8d",
   "metadata": {},
   "outputs": [],
   "source": []
  },
  {
   "cell_type": "code",
   "execution_count": 104,
   "id": "052ef20d",
   "metadata": {},
   "outputs": [
    {
     "name": "stdout",
     "output_type": "stream",
     "text": [
      "-0.10871573085344477\n"
     ]
    }
   ],
   "source": [
    "r22 = metrics.r2_score(y_test,y_pred1)\n",
    "print(r22)"
   ]
  },
  {
   "cell_type": "code",
   "execution_count": null,
   "id": "0c1c4102",
   "metadata": {},
   "outputs": [],
   "source": []
  },
  {
   "cell_type": "code",
   "execution_count": null,
   "id": "8658c5dd",
   "metadata": {},
   "outputs": [],
   "source": []
  },
  {
   "cell_type": "code",
   "execution_count": 85,
   "id": "dbd43893",
   "metadata": {},
   "outputs": [],
   "source": [
    "from sklearn.ensemble import GradientBoostingRegressor"
   ]
  },
  {
   "cell_type": "code",
   "execution_count": 86,
   "id": "73a289c2",
   "metadata": {},
   "outputs": [
    {
     "data": {
      "text/html": [
       "<style>#sk-container-id-6 {color: black;background-color: white;}#sk-container-id-6 pre{padding: 0;}#sk-container-id-6 div.sk-toggleable {background-color: white;}#sk-container-id-6 label.sk-toggleable__label {cursor: pointer;display: block;width: 100%;margin-bottom: 0;padding: 0.3em;box-sizing: border-box;text-align: center;}#sk-container-id-6 label.sk-toggleable__label-arrow:before {content: \"▸\";float: left;margin-right: 0.25em;color: #696969;}#sk-container-id-6 label.sk-toggleable__label-arrow:hover:before {color: black;}#sk-container-id-6 div.sk-estimator:hover label.sk-toggleable__label-arrow:before {color: black;}#sk-container-id-6 div.sk-toggleable__content {max-height: 0;max-width: 0;overflow: hidden;text-align: left;background-color: #f0f8ff;}#sk-container-id-6 div.sk-toggleable__content pre {margin: 0.2em;color: black;border-radius: 0.25em;background-color: #f0f8ff;}#sk-container-id-6 input.sk-toggleable__control:checked~div.sk-toggleable__content {max-height: 200px;max-width: 100%;overflow: auto;}#sk-container-id-6 input.sk-toggleable__control:checked~label.sk-toggleable__label-arrow:before {content: \"▾\";}#sk-container-id-6 div.sk-estimator input.sk-toggleable__control:checked~label.sk-toggleable__label {background-color: #d4ebff;}#sk-container-id-6 div.sk-label input.sk-toggleable__control:checked~label.sk-toggleable__label {background-color: #d4ebff;}#sk-container-id-6 input.sk-hidden--visually {border: 0;clip: rect(1px 1px 1px 1px);clip: rect(1px, 1px, 1px, 1px);height: 1px;margin: -1px;overflow: hidden;padding: 0;position: absolute;width: 1px;}#sk-container-id-6 div.sk-estimator {font-family: monospace;background-color: #f0f8ff;border: 1px dotted black;border-radius: 0.25em;box-sizing: border-box;margin-bottom: 0.5em;}#sk-container-id-6 div.sk-estimator:hover {background-color: #d4ebff;}#sk-container-id-6 div.sk-parallel-item::after {content: \"\";width: 100%;border-bottom: 1px solid gray;flex-grow: 1;}#sk-container-id-6 div.sk-label:hover label.sk-toggleable__label {background-color: #d4ebff;}#sk-container-id-6 div.sk-serial::before {content: \"\";position: absolute;border-left: 1px solid gray;box-sizing: border-box;top: 0;bottom: 0;left: 50%;z-index: 0;}#sk-container-id-6 div.sk-serial {display: flex;flex-direction: column;align-items: center;background-color: white;padding-right: 0.2em;padding-left: 0.2em;position: relative;}#sk-container-id-6 div.sk-item {position: relative;z-index: 1;}#sk-container-id-6 div.sk-parallel {display: flex;align-items: stretch;justify-content: center;background-color: white;position: relative;}#sk-container-id-6 div.sk-item::before, #sk-container-id-6 div.sk-parallel-item::before {content: \"\";position: absolute;border-left: 1px solid gray;box-sizing: border-box;top: 0;bottom: 0;left: 50%;z-index: -1;}#sk-container-id-6 div.sk-parallel-item {display: flex;flex-direction: column;z-index: 1;position: relative;background-color: white;}#sk-container-id-6 div.sk-parallel-item:first-child::after {align-self: flex-end;width: 50%;}#sk-container-id-6 div.sk-parallel-item:last-child::after {align-self: flex-start;width: 50%;}#sk-container-id-6 div.sk-parallel-item:only-child::after {width: 0;}#sk-container-id-6 div.sk-dashed-wrapped {border: 1px dashed gray;margin: 0 0.4em 0.5em 0.4em;box-sizing: border-box;padding-bottom: 0.4em;background-color: white;}#sk-container-id-6 div.sk-label label {font-family: monospace;font-weight: bold;display: inline-block;line-height: 1.2em;}#sk-container-id-6 div.sk-label-container {text-align: center;}#sk-container-id-6 div.sk-container {/* jupyter's `normalize.less` sets `[hidden] { display: none; }` but bootstrap.min.css set `[hidden] { display: none !important; }` so we also need the `!important` here to be able to override the default hidden behavior on the sphinx rendered scikit-learn.org. See: https://github.com/scikit-learn/scikit-learn/issues/21755 */display: inline-block !important;position: relative;}#sk-container-id-6 div.sk-text-repr-fallback {display: none;}</style><div id=\"sk-container-id-6\" class=\"sk-top-container\"><div class=\"sk-text-repr-fallback\"><pre>GradientBoostingRegressor()</pre><b>In a Jupyter environment, please rerun this cell to show the HTML representation or trust the notebook. <br />On GitHub, the HTML representation is unable to render, please try loading this page with nbviewer.org.</b></div><div class=\"sk-container\" hidden><div class=\"sk-item\"><div class=\"sk-estimator sk-toggleable\"><input class=\"sk-toggleable__control sk-hidden--visually\" id=\"sk-estimator-id-6\" type=\"checkbox\" checked><label for=\"sk-estimator-id-6\" class=\"sk-toggleable__label sk-toggleable__label-arrow\">GradientBoostingRegressor</label><div class=\"sk-toggleable__content\"><pre>GradientBoostingRegressor()</pre></div></div></div></div></div>"
      ],
      "text/plain": [
       "GradientBoostingRegressor()"
      ]
     },
     "execution_count": 86,
     "metadata": {},
     "output_type": "execute_result"
    }
   ],
   "source": [
    "gr=GradientBoostingRegressor()\n",
    "gr.fit(X_train,y_train)"
   ]
  },
  {
   "cell_type": "code",
   "execution_count": 87,
   "id": "647806be",
   "metadata": {},
   "outputs": [],
   "source": [
    "y_pred3=gr.predict(X_test)"
   ]
  },
  {
   "cell_type": "code",
   "execution_count": 88,
   "id": "61d982db",
   "metadata": {},
   "outputs": [
    {
     "name": "stdout",
     "output_type": "stream",
     "text": [
      "0.8466639659483013\n"
     ]
    }
   ],
   "source": [
    "r2 =r2_score(y_test,y_pred3)\n",
    "print(r2)"
   ]
  },
  {
   "cell_type": "code",
   "execution_count": 89,
   "id": "a7616860",
   "metadata": {},
   "outputs": [
    {
     "name": "stdout",
     "output_type": "stream",
     "text": [
      "MAE: 2664.055263401666\n",
      "MSE: 22990329.637376722\n",
      "RMSE: 4794.823212317293\n"
     ]
    }
   ],
   "source": [
    "# calculating error\n",
    "print('MAE:', metrics.mean_absolute_error(y_test, y_pred3))\n",
    "print('MSE:', metrics.mean_squared_error(y_test, y_pred3))\n",
    "print('RMSE:', np.sqrt(metrics.mean_squared_error(y_test, y_pred3)))"
   ]
  },
  {
   "cell_type": "code",
   "execution_count": null,
   "id": "74e1beb0",
   "metadata": {},
   "outputs": [],
   "source": []
  },
  {
   "cell_type": "code",
   "execution_count": null,
   "id": "0559ff15",
   "metadata": {},
   "outputs": [],
   "source": []
  },
  {
   "cell_type": "code",
   "execution_count": 90,
   "id": "b1d3604d",
   "metadata": {},
   "outputs": [],
   "source": [
    "from xgboost import XGBRegressor"
   ]
  },
  {
   "cell_type": "code",
   "execution_count": 91,
   "id": "d53918c9",
   "metadata": {},
   "outputs": [
    {
     "data": {
      "text/html": [
       "<style>#sk-container-id-7 {color: black;background-color: white;}#sk-container-id-7 pre{padding: 0;}#sk-container-id-7 div.sk-toggleable {background-color: white;}#sk-container-id-7 label.sk-toggleable__label {cursor: pointer;display: block;width: 100%;margin-bottom: 0;padding: 0.3em;box-sizing: border-box;text-align: center;}#sk-container-id-7 label.sk-toggleable__label-arrow:before {content: \"▸\";float: left;margin-right: 0.25em;color: #696969;}#sk-container-id-7 label.sk-toggleable__label-arrow:hover:before {color: black;}#sk-container-id-7 div.sk-estimator:hover label.sk-toggleable__label-arrow:before {color: black;}#sk-container-id-7 div.sk-toggleable__content {max-height: 0;max-width: 0;overflow: hidden;text-align: left;background-color: #f0f8ff;}#sk-container-id-7 div.sk-toggleable__content pre {margin: 0.2em;color: black;border-radius: 0.25em;background-color: #f0f8ff;}#sk-container-id-7 input.sk-toggleable__control:checked~div.sk-toggleable__content {max-height: 200px;max-width: 100%;overflow: auto;}#sk-container-id-7 input.sk-toggleable__control:checked~label.sk-toggleable__label-arrow:before {content: \"▾\";}#sk-container-id-7 div.sk-estimator input.sk-toggleable__control:checked~label.sk-toggleable__label {background-color: #d4ebff;}#sk-container-id-7 div.sk-label input.sk-toggleable__control:checked~label.sk-toggleable__label {background-color: #d4ebff;}#sk-container-id-7 input.sk-hidden--visually {border: 0;clip: rect(1px 1px 1px 1px);clip: rect(1px, 1px, 1px, 1px);height: 1px;margin: -1px;overflow: hidden;padding: 0;position: absolute;width: 1px;}#sk-container-id-7 div.sk-estimator {font-family: monospace;background-color: #f0f8ff;border: 1px dotted black;border-radius: 0.25em;box-sizing: border-box;margin-bottom: 0.5em;}#sk-container-id-7 div.sk-estimator:hover {background-color: #d4ebff;}#sk-container-id-7 div.sk-parallel-item::after {content: \"\";width: 100%;border-bottom: 1px solid gray;flex-grow: 1;}#sk-container-id-7 div.sk-label:hover label.sk-toggleable__label {background-color: #d4ebff;}#sk-container-id-7 div.sk-serial::before {content: \"\";position: absolute;border-left: 1px solid gray;box-sizing: border-box;top: 0;bottom: 0;left: 50%;z-index: 0;}#sk-container-id-7 div.sk-serial {display: flex;flex-direction: column;align-items: center;background-color: white;padding-right: 0.2em;padding-left: 0.2em;position: relative;}#sk-container-id-7 div.sk-item {position: relative;z-index: 1;}#sk-container-id-7 div.sk-parallel {display: flex;align-items: stretch;justify-content: center;background-color: white;position: relative;}#sk-container-id-7 div.sk-item::before, #sk-container-id-7 div.sk-parallel-item::before {content: \"\";position: absolute;border-left: 1px solid gray;box-sizing: border-box;top: 0;bottom: 0;left: 50%;z-index: -1;}#sk-container-id-7 div.sk-parallel-item {display: flex;flex-direction: column;z-index: 1;position: relative;background-color: white;}#sk-container-id-7 div.sk-parallel-item:first-child::after {align-self: flex-end;width: 50%;}#sk-container-id-7 div.sk-parallel-item:last-child::after {align-self: flex-start;width: 50%;}#sk-container-id-7 div.sk-parallel-item:only-child::after {width: 0;}#sk-container-id-7 div.sk-dashed-wrapped {border: 1px dashed gray;margin: 0 0.4em 0.5em 0.4em;box-sizing: border-box;padding-bottom: 0.4em;background-color: white;}#sk-container-id-7 div.sk-label label {font-family: monospace;font-weight: bold;display: inline-block;line-height: 1.2em;}#sk-container-id-7 div.sk-label-container {text-align: center;}#sk-container-id-7 div.sk-container {/* jupyter's `normalize.less` sets `[hidden] { display: none; }` but bootstrap.min.css set `[hidden] { display: none !important; }` so we also need the `!important` here to be able to override the default hidden behavior on the sphinx rendered scikit-learn.org. See: https://github.com/scikit-learn/scikit-learn/issues/21755 */display: inline-block !important;position: relative;}#sk-container-id-7 div.sk-text-repr-fallback {display: none;}</style><div id=\"sk-container-id-7\" class=\"sk-top-container\"><div class=\"sk-text-repr-fallback\"><pre>XGBRegressor(base_score=None, booster=None, callbacks=None,\n",
       "             colsample_bylevel=None, colsample_bynode=None,\n",
       "             colsample_bytree=None, early_stopping_rounds=None,\n",
       "             enable_categorical=False, eval_metric=None, feature_types=None,\n",
       "             gamma=None, gpu_id=None, grow_policy=None, importance_type=None,\n",
       "             interaction_constraints=None, learning_rate=None, max_bin=None,\n",
       "             max_cat_threshold=None, max_cat_to_onehot=None,\n",
       "             max_delta_step=None, max_depth=None, max_leaves=None,\n",
       "             min_child_weight=None, missing=nan, monotone_constraints=None,\n",
       "             n_estimators=100, n_jobs=None, num_parallel_tree=None,\n",
       "             predictor=None, random_state=None, ...)</pre><b>In a Jupyter environment, please rerun this cell to show the HTML representation or trust the notebook. <br />On GitHub, the HTML representation is unable to render, please try loading this page with nbviewer.org.</b></div><div class=\"sk-container\" hidden><div class=\"sk-item\"><div class=\"sk-estimator sk-toggleable\"><input class=\"sk-toggleable__control sk-hidden--visually\" id=\"sk-estimator-id-7\" type=\"checkbox\" checked><label for=\"sk-estimator-id-7\" class=\"sk-toggleable__label sk-toggleable__label-arrow\">XGBRegressor</label><div class=\"sk-toggleable__content\"><pre>XGBRegressor(base_score=None, booster=None, callbacks=None,\n",
       "             colsample_bylevel=None, colsample_bynode=None,\n",
       "             colsample_bytree=None, early_stopping_rounds=None,\n",
       "             enable_categorical=False, eval_metric=None, feature_types=None,\n",
       "             gamma=None, gpu_id=None, grow_policy=None, importance_type=None,\n",
       "             interaction_constraints=None, learning_rate=None, max_bin=None,\n",
       "             max_cat_threshold=None, max_cat_to_onehot=None,\n",
       "             max_delta_step=None, max_depth=None, max_leaves=None,\n",
       "             min_child_weight=None, missing=nan, monotone_constraints=None,\n",
       "             n_estimators=100, n_jobs=None, num_parallel_tree=None,\n",
       "             predictor=None, random_state=None, ...)</pre></div></div></div></div></div>"
      ],
      "text/plain": [
       "XGBRegressor(base_score=None, booster=None, callbacks=None,\n",
       "             colsample_bylevel=None, colsample_bynode=None,\n",
       "             colsample_bytree=None, early_stopping_rounds=None,\n",
       "             enable_categorical=False, eval_metric=None, feature_types=None,\n",
       "             gamma=None, gpu_id=None, grow_policy=None, importance_type=None,\n",
       "             interaction_constraints=None, learning_rate=None, max_bin=None,\n",
       "             max_cat_threshold=None, max_cat_to_onehot=None,\n",
       "             max_delta_step=None, max_depth=None, max_leaves=None,\n",
       "             min_child_weight=None, missing=nan, monotone_constraints=None,\n",
       "             n_estimators=100, n_jobs=None, num_parallel_tree=None,\n",
       "             predictor=None, random_state=None, ...)"
      ]
     },
     "execution_count": 91,
     "metadata": {},
     "output_type": "execute_result"
    }
   ],
   "source": [
    "model=XGBRegressor()\n",
    "model.fit(X_train,y_train)"
   ]
  },
  {
   "cell_type": "code",
   "execution_count": 92,
   "id": "44a8110b",
   "metadata": {},
   "outputs": [],
   "source": [
    "y_pred0=model.predict(X_test)"
   ]
  },
  {
   "cell_type": "code",
   "execution_count": 93,
   "id": "99539fde",
   "metadata": {},
   "outputs": [
    {
     "name": "stdout",
     "output_type": "stream",
     "text": [
      "0.817299762725402\n"
     ]
    }
   ],
   "source": [
    "r2 =r2_score(y_test,y_pred0)\n",
    "print(r2)"
   ]
  },
  {
   "cell_type": "code",
   "execution_count": 94,
   "id": "14c17562",
   "metadata": {},
   "outputs": [
    {
     "name": "stdout",
     "output_type": "stream",
     "text": [
      "MAE: 3201.040396511569\n",
      "MSE: 27393030.645058725\n",
      "RMSE: 5233.835175572376\n"
     ]
    }
   ],
   "source": [
    "# calculating error\n",
    "print('MAE:', metrics.mean_absolute_error(y_test, y_pred0))\n",
    "print('MSE:', metrics.mean_squared_error(y_test, y_pred0))\n",
    "print('RMSE:', np.sqrt(metrics.mean_squared_error(y_test, y_pred0)))"
   ]
  },
  {
   "cell_type": "code",
   "execution_count": null,
   "id": "e8f1bfc6",
   "metadata": {},
   "outputs": [],
   "source": []
  }
 ],
 "metadata": {
  "kernelspec": {
   "display_name": "Python 3 (ipykernel)",
   "language": "python",
   "name": "python3"
  },
  "language_info": {
   "codemirror_mode": {
    "name": "ipython",
    "version": 3
   },
   "file_extension": ".py",
   "mimetype": "text/x-python",
   "name": "python",
   "nbconvert_exporter": "python",
   "pygments_lexer": "ipython3",
   "version": "3.10.9"
  }
 },
 "nbformat": 4,
 "nbformat_minor": 5
}
